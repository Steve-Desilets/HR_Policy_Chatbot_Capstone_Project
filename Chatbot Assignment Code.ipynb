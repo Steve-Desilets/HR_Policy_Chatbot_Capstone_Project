{
 "cells": [
  {
   "cell_type": "markdown",
   "id": "9bb957fc",
   "metadata": {},
   "source": [
    "# Appendix E - Python Code To Create Coral Reef Fish Chatbots"
   ]
  },
  {
   "cell_type": "markdown",
   "id": "ad11a284",
   "metadata": {},
   "source": [
    "#### Steve Desilets"
   ]
  },
  {
   "cell_type": "markdown",
   "id": "e8e6ab72",
   "metadata": {},
   "source": [
    "#### August 26, 2023"
   ]
  },
  {
   "cell_type": "markdown",
   "id": "0c12390b",
   "metadata": {},
   "source": [
    "## 1) Chatbot 1 - Sentence-Based Transformer Chatbot That Leverages Cosine Similarity"
   ]
  },
  {
   "cell_type": "code",
   "execution_count": 41,
   "id": "061f2510",
   "metadata": {},
   "outputs": [
    {
     "name": "stdout",
     "output_type": "stream",
     "text": [
      "Requirement already satisfied: sentence-transformers in c:\\users\\steve\\anaconda3\\lib\\site-packages (2.2.2)\n",
      "Requirement already satisfied: transformers<5.0.0,>=4.6.0 in c:\\users\\steve\\anaconda3\\lib\\site-packages (from sentence-transformers) (4.31.0)\n",
      "Requirement already satisfied: tqdm in c:\\users\\steve\\anaconda3\\lib\\site-packages (from sentence-transformers) (4.66.1)\n"
     ]
    },
    {
     "name": "stderr",
     "output_type": "stream",
     "text": [
      "WARNING: Ignoring invalid distribution -rotobuf (c:\\users\\steve\\anaconda3\\lib\\site-packages)\n",
      "WARNING: Ignoring invalid distribution -rotobuf (c:\\users\\steve\\anaconda3\\lib\\site-packages)\n"
     ]
    },
    {
     "name": "stdout",
     "output_type": "stream",
     "text": [
      "Requirement already satisfied: torch>=1.6.0 in c:\\users\\steve\\anaconda3\\lib\\site-packages (from sentence-transformers) (2.0.1)\n",
      "Requirement already satisfied: torchvision in c:\\users\\steve\\anaconda3\\lib\\site-packages (from sentence-transformers) (0.15.2)\n",
      "Requirement already satisfied: numpy in c:\\users\\steve\\anaconda3\\lib\\site-packages (from sentence-transformers) (1.22.4)\n",
      "Requirement already satisfied: scikit-learn in c:\\users\\steve\\anaconda3\\lib\\site-packages (from sentence-transformers) (1.3.0)\n",
      "Requirement already satisfied: scipy in c:\\users\\steve\\anaconda3\\lib\\site-packages (from sentence-transformers) (1.7.3)\n",
      "Requirement already satisfied: nltk in c:\\users\\steve\\anaconda3\\lib\\site-packages (from sentence-transformers) (3.7)\n",
      "Requirement already satisfied: sentencepiece in c:\\users\\steve\\anaconda3\\lib\\site-packages (from sentence-transformers) (0.1.99)\n",
      "Requirement already satisfied: huggingface-hub>=0.4.0 in c:\\users\\steve\\anaconda3\\lib\\site-packages (from sentence-transformers) (0.16.4)\n",
      "Requirement already satisfied: filelock in c:\\users\\steve\\anaconda3\\lib\\site-packages (from huggingface-hub>=0.4.0->sentence-transformers) (3.6.0)\n",
      "Requirement already satisfied: fsspec in c:\\users\\steve\\anaconda3\\lib\\site-packages (from huggingface-hub>=0.4.0->sentence-transformers) (2023.6.0)\n",
      "Requirement already satisfied: requests in c:\\users\\steve\\anaconda3\\lib\\site-packages (from huggingface-hub>=0.4.0->sentence-transformers) (2.31.0)\n",
      "Requirement already satisfied: pyyaml>=5.1 in c:\\users\\steve\\anaconda3\\lib\\site-packages (from huggingface-hub>=0.4.0->sentence-transformers) (6.0)\n",
      "Requirement already satisfied: typing-extensions>=3.7.4.3 in c:\\users\\steve\\anaconda3\\lib\\site-packages (from huggingface-hub>=0.4.0->sentence-transformers) (4.7.1)\n",
      "Requirement already satisfied: packaging>=20.9 in c:\\users\\steve\\anaconda3\\lib\\site-packages (from huggingface-hub>=0.4.0->sentence-transformers) (21.3)\n",
      "Requirement already satisfied: sympy in c:\\users\\steve\\anaconda3\\lib\\site-packages (from torch>=1.6.0->sentence-transformers) (1.10.1)\n",
      "Requirement already satisfied: networkx in c:\\users\\steve\\anaconda3\\lib\\site-packages (from torch>=1.6.0->sentence-transformers) (2.7.1)\n",
      "Requirement already satisfied: jinja2 in c:\\users\\steve\\anaconda3\\lib\\site-packages (from torch>=1.6.0->sentence-transformers) (2.11.3)\n",
      "Requirement already satisfied: colorama in c:\\users\\steve\\anaconda3\\lib\\site-packages (from tqdm->sentence-transformers) (0.4.6)\n",
      "Requirement already satisfied: regex!=2019.12.17 in c:\\users\\steve\\anaconda3\\lib\\site-packages (from transformers<5.0.0,>=4.6.0->sentence-transformers) (2022.3.15)\n",
      "Requirement already satisfied: tokenizers!=0.11.3,<0.14,>=0.11.1 in c:\\users\\steve\\anaconda3\\lib\\site-packages (from transformers<5.0.0,>=4.6.0->sentence-transformers) (0.13.3)\n",
      "Requirement already satisfied: safetensors>=0.3.1 in c:\\users\\steve\\anaconda3\\lib\\site-packages (from transformers<5.0.0,>=4.6.0->sentence-transformers) (0.3.2)\n",
      "Requirement already satisfied: click in c:\\users\\steve\\anaconda3\\lib\\site-packages (from nltk->sentence-transformers) (8.0.4)\n",
      "Requirement already satisfied: joblib in c:\\users\\steve\\anaconda3\\lib\\site-packages (from nltk->sentence-transformers) (1.3.2)\n",
      "Requirement already satisfied: threadpoolctl>=2.0.0 in c:\\users\\steve\\anaconda3\\lib\\site-packages (from scikit-learn->sentence-transformers) (2.2.0)\n",
      "Requirement already satisfied: pillow!=8.3.*,>=5.3.0 in c:\\users\\steve\\anaconda3\\lib\\site-packages (from torchvision->sentence-transformers) (9.0.1)\n",
      "Requirement already satisfied: pyparsing!=3.0.5,>=2.0.2 in c:\\users\\steve\\anaconda3\\lib\\site-packages (from packaging>=20.9->huggingface-hub>=0.4.0->sentence-transformers) (3.0.4)\n",
      "Requirement already satisfied: MarkupSafe>=0.23 in c:\\users\\steve\\anaconda3\\lib\\site-packages (from jinja2->torch>=1.6.0->sentence-transformers) (2.0.1)\n",
      "Requirement already satisfied: charset-normalizer<4,>=2 in c:\\users\\steve\\anaconda3\\lib\\site-packages (from requests->huggingface-hub>=0.4.0->sentence-transformers) (2.0.4)\n",
      "Requirement already satisfied: idna<4,>=2.5 in c:\\users\\steve\\anaconda3\\lib\\site-packages (from requests->huggingface-hub>=0.4.0->sentence-transformers) (3.3)\n",
      "Requirement already satisfied: urllib3<3,>=1.21.1 in c:\\users\\steve\\anaconda3\\lib\\site-packages (from requests->huggingface-hub>=0.4.0->sentence-transformers) (1.26.9)\n",
      "Requirement already satisfied: certifi>=2017.4.17 in c:\\users\\steve\\anaconda3\\lib\\site-packages (from requests->huggingface-hub>=0.4.0->sentence-transformers) (2021.10.8)\n",
      "Requirement already satisfied: mpmath>=0.19 in c:\\users\\steve\\anaconda3\\lib\\site-packages (from sympy->torch>=1.6.0->sentence-transformers) (1.2.1)\n"
     ]
    }
   ],
   "source": [
    "import pandas as pd\n",
    "import numpy as np\n",
    "import re\n",
    "import string\n",
    "import seaborn as sns\n",
    "import matplotlib.pyplot as plt\n",
    "import nltk\n",
    "from collections import Counter\n",
    "from dataclasses import dataclass\n",
    "from timeit import default_timer as timer\n",
    "import random\n",
    "from nltk.corpus import stopwords\n",
    "from nltk.stem.wordnet import WordNetLemmatizer\n",
    "from nltk.tokenize import word_tokenize \n",
    "\n",
    "import gensim\n",
    "from gensim.models import Word2Vec\n",
    "\n",
    "import spacy\n",
    "from spacy import displacy\n",
    "\n",
    "from spacy.matcher import Matcher \n",
    "from spacy.tokens import Span \n",
    "\n",
    "import networkx as nx\n",
    "import matplotlib.pyplot as plt\n",
    "from tqdm import tqdm\n",
    "!pip install sentence-transformers\n",
    "from sentence_transformers import SentenceTransformer, util\n",
    "from sklearn.feature_extraction.text import TfidfVectorizer\n",
    "from sklearn.feature_extraction.text import CountVectorizer\n",
    "from sklearn.metrics.pairwise import cosine_similarity\n",
    "\n",
    "\n",
    "from IPython.display import display, HTML\n",
    "\n",
    "from typing import List, Callable, Dict, Tuple, Set\n",
    "\n",
    "pd.set_option('max_colwidth', 600)\n",
    "pd.set_option('display.max_rows', 500)"
   ]
  },
  {
   "cell_type": "code",
   "execution_count": 42,
   "id": "20647b78",
   "metadata": {},
   "outputs": [],
   "source": [
    "#Load Sentence Transformer model optimized for  sentence cosine similarity calculations\n",
    "\n",
    "#The models below fully downloaded in Google Colab. This is the version of the google colab notebook but \n",
    "#it was open in anoconda to be saved as pdf and the download graphics did not transfer properly so \n",
    "#it seems like it didn't download. However, it did in the orignal google colab notebook, where all the\n",
    "#analysis was run.\n",
    "\n",
    "model = SentenceTransformer('multi-qa-MiniLM-L6-cos-v1')"
   ]
  },
  {
   "cell_type": "code",
   "execution_count": 3,
   "id": "13966d4c",
   "metadata": {},
   "outputs": [],
   "source": [
    "#from google.colab import drive\n",
    "#drive.mount('/content/gdrive')"
   ]
  },
  {
   "cell_type": "code",
   "execution_count": 43,
   "id": "3b1ab571",
   "metadata": {},
   "outputs": [
    {
     "data": {
      "text/plain": [
       "True"
      ]
     },
     "execution_count": 43,
     "metadata": {},
     "output_type": "execute_result"
    }
   ],
   "source": [
    "# Only run this once, they will be downloaded.\n",
    "nltk.download('stopwords',quiet=True)\n",
    "nltk.download('wordnet',quiet=True)\n",
    "nltk.download('punkt',quiet=True)\n",
    "nltk.download('omw-1.4',quiet=True)"
   ]
  },
  {
   "cell_type": "code",
   "execution_count": 44,
   "id": "75a0da03",
   "metadata": {},
   "outputs": [],
   "source": [
    "#read in data\n",
    "CORPUS_PATH = 'C:/Users/steve/OneDrive/Desktop/Github/Natural_Language_Processing/Chatbot Assignment/coral_reef_fish.txt'\n",
    "f=open(CORPUS_PATH,'r',errors = 'ignore')\n",
    "raw=f.read()\n",
    "raw=raw.lower()# converts to lowercase\n",
    "\n",
    "#create list of sentences and words\n",
    "sent_tokens = nltk.sent_tokenize(raw)# converts to list of sentences \n",
    "word_tokens = nltk.word_tokenize(raw)# converts to list of words"
   ]
  },
  {
   "cell_type": "code",
   "execution_count": 45,
   "id": "a27ac829",
   "metadata": {},
   "outputs": [],
   "source": [
    "#create greetings and greetings function\n",
    "\n",
    "GREETING_INPUTS = (\"hello\", \"hi\", \"greetings\", \"sup\", \"what's up\",\"hey\",)\n",
    "GREETING_RESPONSES = [\"Hello\"]\n",
    "\n",
    "\n",
    "# Checking for greetings\n",
    "def greeting(sentence):\n",
    "    \"\"\"If user's input is a greeting, return a greeting response\"\"\"\n",
    "    for word in sentence.split():\n",
    "        if word.lower() in GREETING_INPUTS:\n",
    "            return random.choice(GREETING_RESPONSES)"
   ]
  },
  {
   "cell_type": "code",
   "execution_count": 46,
   "id": "c0eb55e1",
   "metadata": {},
   "outputs": [],
   "source": [
    "\n",
    "# Generating response function \n",
    "def response(user_response):\n",
    "    chatbot_response=''\n",
    "    sentence_encodings=model.encode(sent_tokens, convert_to_tensor=True)# generate sentence transformer embeddings\n",
    "    sentence_encodings=sentence_encodings.cpu()\n",
    "    vals = cosine_similarity(sentence_encodings[-1].reshape(1, -1), sentence_encodings) #the chatbot conversation code \n",
    "    #in the next cell adds the question as the last sentence of the sentence tokens, before calling this response function.\n",
    "    #The code takes the last sentence (which is the question) and gets cosine similarities vs all the sentences in the corpus,\n",
    "    #including itself\n",
    "    idx=vals.argsort()[0][-2] #gets the index of the second highest similarity (the first highest would be the question itself)\n",
    "    flat = vals.flatten()#reduces dimension of cosine similarity array to be able to sort\n",
    "    flat.sort() #sort the cosine similarity values\n",
    "    second_cos_sim_val = flat[-2] #get the second highest cosine similarity value.\n",
    "    if(second_cos_sim_val==0): #check the second highest cosine similarity value. If it's zero return the no match response,\n",
    "        #else return highest cosine similarity sentence.\n",
    "        chatbot_response=chatbot_response+\"Sorry, I do not have an answer to your question in my database\"\n",
    "        return chatbot_response\n",
    "    else:\n",
    "        chatbot_response = chatbot_response+sent_tokens[idx] #use index of highest cosine similarity to get original sentence\n",
    "        return chatbot_response"
   ]
  },
  {
   "cell_type": "code",
   "execution_count": 47,
   "id": "8de18951",
   "metadata": {},
   "outputs": [
    {
     "name": "stdout",
     "output_type": "stream",
     "text": [
      "Welcome to the Informational Chatbot About Coral Reef Fish. To end session please type exit.\n",
      "\n",
      "\n",
      "How many species of fish live in coral reefs?\n",
      "Answer: the fish that inhabit coral reefs are numerous and diverse.\n",
      "\n",
      "\n",
      "What is the most venomous fish?\n",
      "Answer: the most venomous known fish is the reef stonefish.\n",
      "\n",
      "\n",
      "What sharks live in coral reefs?\n",
      "Answer: the whitetip reef shark almost exclusively inhabits coral reefs.\n",
      "\n",
      "\n",
      "What fish are poisonous?\n",
      "Answer: there is a distinction between poisonous fish and venomous fish.\n",
      "\n",
      "\n",
      "What fish can electrocute you?\n",
      "Answer: some unmistakable contrasting patterns are used to warn predators that the fish has venomous spines or poisonous flesh.\n",
      "\n",
      "\n",
      "What species can sting you?\n",
      "Answer: the most venomous known fish is the reef stonefish.\n",
      "\n",
      "\n",
      "What species are parasitic?\n",
      "Answer: monogenean parasites of the genus pseudorhabdosynochus (arrows) on the gill filament of a grouper.\n",
      "\n",
      "\n",
      "What species are venomous?\n",
      "Answer: few of these venoms have been studied.\n",
      "\n",
      "\n",
      "What species are known for attacking scuba divers?\n",
      "Answer: they are swift predators who patrol the reef in hunting packs.\n",
      "\n",
      "\n",
      "What are common herbivorous fish?\n",
      "Answer: herbivores feed on plants.\n",
      "\n",
      "\n",
      "Why do fish camouflage themselves?\n",
      "Answer: sometimes they camouflage the fish when the fish rests in places with the right background.\n",
      "\n",
      "\n",
      "How do fish get rid of their parasites?\n",
      "Answer: some fish specialise as cleaner fish, and establish cleaning stations where other fish can come to have their parasites nibbled away.\n",
      "\n",
      "\n",
      "What species have mutualistic relationships?\n",
      "Answer: the relationship can be mutualistic, when both species benefit from the relationship, commensalistic, when one species benefits and the other is unaffected, and parasitistic, when one species benefits, and the other is harmed.\n",
      "\n",
      "\n",
      "What species have commensalistic relationships?\n",
      "Answer: the relationship can be mutualistic, when both species benefit from the relationship, commensalistic, when one species benefits and the other is unaffected, and parasitistic, when one species benefits, and the other is harmed.\n",
      "\n",
      "\n",
      "Where in the world are coral reefs found?\n",
      "Answer: they are frequently found near the drop-offs at the outer edges of the reef, and less commonly within lagoons.\n",
      "\n",
      "\n",
      "What species engage in schooling?\n",
      "Answer: schooling fish have developed remarkable displays of precise choreography which confuse and evade predators.\n",
      "\n",
      "\n",
      "Which species are ambush predators?\n",
      "Answer: another ambush predator is the striated frogfish (right).\n",
      "\n",
      "\n",
      "Why are some coral reef fish colorful?\n",
      "Answer: coral reef fishes exhibit a huge variety of dazzling and sometimes bizarre colours and patterns.\n",
      "\n",
      "\n",
      "Which species is blue?\n",
      "Answer: the psychedelic synchiropus splendidus is one of only two animal species known to have blue colouring because of cellular pigment.\n",
      "\n",
      "\n",
      "What is the slowest species that lives in coral reefs?\n",
      "Answer: the slowest-moving fishes are the sea horses, often found in reefs.\n",
      "\n",
      "\n",
      "exit\n",
      "Thank you for using the Informational Chatbot About Coral Reef Fish. Goodbye.\n"
     ]
    }
   ],
   "source": [
    "#Chatbot interaction code\n",
    "\n",
    "flag=True\n",
    "print(\"Welcome to the Informational Chatbot About Coral Reef Fish. To end session please type exit.\")\n",
    "print(\"\\n\")\n",
    "\n",
    "while(flag==True):\n",
    "    user_response = input()\n",
    "    user_response=user_response.lower()\n",
    "    if user_response!='exit':\n",
    "        if(user_response=='thanks' or user_response=='thank you' ):\n",
    "            flag=False\n",
    "            print(\"Answer: You are welcome!\")\n",
    "        else:\n",
    "            if(greeting(user_response)!=None):\n",
    "                print(\"Answer: \"+greeting(user_response))\n",
    "            else:\n",
    "                sent_tokens.append(user_response)\n",
    "                word_tokens=word_tokens+nltk.word_tokenize(user_response)\n",
    "                final_words=list(set(word_tokens))\n",
    "                print(\"Answer: \",end=\"\")\n",
    "                print(response(user_response))\n",
    "                print(\"\\n\")\n",
    "                sent_tokens.remove(user_response)\n",
    "    else:\n",
    "        flag=False\n",
    "        print(\"Thank you for using the Informational Chatbot About Coral Reef Fish. Goodbye.\")    \n"
   ]
  },
  {
   "cell_type": "code",
   "execution_count": 30,
   "id": "293aeedf",
   "metadata": {},
   "outputs": [],
   "source": [
    "chatbot_models = []\n",
    "\n",
    "for i in range(20):\n",
    "    chatbot_models.append(1)\n",
    "    \n",
    "model_1_performance_list = [\"Incorrect\",\n",
    "                          \"Correct\",\n",
    "                          \"Correct\",\n",
    "                          \"Incorrect\",\n",
    "                          \"Incorrect\",\n",
    "                          \"Incorrect\",\n",
    "                          \"Correct\",\n",
    "                          \"Incorrect\",\n",
    "                          \"Incorrect\",\n",
    "                          \"Incorrect\",\n",
    "                          \"Partially Correct\",\n",
    "                          \"Correct\",\n",
    "                          \"Incorrect\",\n",
    "                          \"Incorrect\",\n",
    "                          \"Incorrect\",\n",
    "                          \"Incorrect\",\n",
    "                          \"Correct\",\n",
    "                          \"Incorrect\",\n",
    "                           \"Correct\",\n",
    "                           \"Correct\"]"
   ]
  },
  {
   "cell_type": "markdown",
   "id": "64761b2f",
   "metadata": {},
   "source": [
    "## 2) Chatbot 2 - Fine-Tune GPT2 Model"
   ]
  },
  {
   "cell_type": "code",
   "execution_count": 2,
   "id": "1145fbcd",
   "metadata": {},
   "outputs": [
    {
     "name": "stdout",
     "output_type": "stream",
     "text": [
      "Requirement already satisfied: transformers in c:\\users\\steve\\anaconda3\\lib\\site-packages (4.31.0)\n",
      "Requirement already satisfied: filelock in c:\\users\\steve\\anaconda3\\lib\\site-packages (from transformers) (3.6.0)\n",
      "Requirement already satisfied: huggingface-hub<1.0,>=0.14.1 in c:\\users\\steve\\anaconda3\\lib\\site-packages (from transformers) (0.16.4)\n",
      "Requirement already satisfied: numpy>=1.17 in c:\\users\\steve\\anaconda3\\lib\\site-packages (from transformers) (1.22.4)\n",
      "Requirement already satisfied: packaging>=20.0 in c:\\users\\steve\\anaconda3\\lib\\site-packages (from transformers) (21.3)\n",
      "Requirement already satisfied: pyyaml>=5.1 in c:\\users\\steve\\anaconda3\\lib\\site-packages (from transformers) (6.0)\n",
      "Requirement already satisfied: regex!=2019.12.17 in c:\\users\\steve\\anaconda3\\lib\\site-packages (from transformers) (2022.3.15)\n",
      "Requirement already satisfied: requests in c:\\users\\steve\\anaconda3\\lib\\site-packages (from transformers) (2.31.0)\n",
      "Requirement already satisfied: tokenizers!=0.11.3,<0.14,>=0.11.1 in c:\\users\\steve\\anaconda3\\lib\\site-packages (from transformers) (0.13.3)\n",
      "Requirement already satisfied: safetensors>=0.3.1 in c:\\users\\steve\\anaconda3\\lib\\site-packages (from transformers) (0.3.2)\n",
      "Requirement already satisfied: tqdm>=4.27 in c:\\users\\steve\\anaconda3\\lib\\site-packages (from transformers) (4.66.1)\n",
      "Requirement already satisfied: fsspec in c:\\users\\steve\\anaconda3\\lib\\site-packages (from huggingface-hub<1.0,>=0.14.1->transformers) (2023.6.0)\n",
      "Requirement already satisfied: typing-extensions>=3.7.4.3 in c:\\users\\steve\\anaconda3\\lib\\site-packages (from huggingface-hub<1.0,>=0.14.1->transformers) (4.7.1)\n",
      "Requirement already satisfied: pyparsing!=3.0.5,>=2.0.2 in c:\\users\\steve\\anaconda3\\lib\\site-packages (from packaging>=20.0->transformers) (3.0.4)\n",
      "Requirement already satisfied: colorama in c:\\users\\steve\\anaconda3\\lib\\site-packages (from tqdm>=4.27->transformers) (0.4.6)\n",
      "Requirement already satisfied: charset-normalizer<4,>=2 in c:\\users\\steve\\anaconda3\\lib\\site-packages (from requests->transformers) (2.0.4)\n",
      "Requirement already satisfied: idna<4,>=2.5 in c:\\users\\steve\\anaconda3\\lib\\site-packages (from requests->transformers) (3.3)\n",
      "Requirement already satisfied: urllib3<3,>=1.21.1 in c:\\users\\steve\\anaconda3\\lib\\site-packages (from requests->transformers) (1.26.9)\n",
      "Requirement already satisfied: certifi>=2017.4.17 in c:\\users\\steve\\anaconda3\\lib\\site-packages (from requests->transformers) (2021.10.8)\n"
     ]
    },
    {
     "name": "stderr",
     "output_type": "stream",
     "text": [
      "WARNING: Ignoring invalid distribution -rotobuf (c:\\users\\steve\\anaconda3\\lib\\site-packages)\n",
      "WARNING: Ignoring invalid distribution -rotobuf (c:\\users\\steve\\anaconda3\\lib\\site-packages)\n"
     ]
    }
   ],
   "source": [
    "!pip install transformers"
   ]
  },
  {
   "cell_type": "code",
   "execution_count": 5,
   "id": "ac6bbb09",
   "metadata": {},
   "outputs": [
    {
     "name": "stdout",
     "output_type": "stream",
     "text": [
      "Requirement already satisfied: protobuf in c:\\users\\steve\\anaconda3\\lib\\site-packages (3.19.0)\n",
      "Collecting protobuf\n",
      "  Obtaining dependency information for protobuf from https://files.pythonhosted.org/packages/13/1f/079588752c462cd0b5e15f6def7d91f0b82489572a86f922b7eab78357a8/protobuf-4.24.1-cp39-cp39-win_amd64.whl.metadata\n",
      "  Downloading protobuf-4.24.1-cp39-cp39-win_amd64.whl.metadata (540 bytes)\n",
      "Downloading protobuf-4.24.1-cp39-cp39-win_amd64.whl (430 kB)\n",
      "   ---------------------------------------- 430.4/430.4 kB 4.5 MB/s eta 0:00:00\n",
      "Installing collected packages: protobuf\n",
      "  Attempting uninstall: protobuf\n",
      "    Found existing installation: protobuf 3.19.0\n",
      "    Uninstalling protobuf-3.19.0:\n",
      "      Successfully uninstalled protobuf-3.19.0\n",
      "Note: you may need to restart the kernel to use updated packages.\n"
     ]
    },
    {
     "name": "stderr",
     "output_type": "stream",
     "text": [
      "WARNING: Ignoring invalid distribution -rotobuf (c:\\users\\steve\\anaconda3\\lib\\site-packages)\n",
      "WARNING: Ignoring invalid distribution -rotobuf (c:\\users\\steve\\anaconda3\\lib\\site-packages)\n",
      "ERROR: Could not install packages due to an OSError: [WinError 5] Access is denied: 'C:\\\\Users\\\\steve\\\\anaconda3\\\\Lib\\\\site-packages\\\\google\\\\protobuf\\\\~-ternal\\\\_api_implementation.cp39-win_amd64.pyd'\n",
      "Consider using the `--user` option or check the permissions.\n",
      "\n"
     ]
    }
   ],
   "source": [
    "pip install --upgrade protobuf"
   ]
  },
  {
   "cell_type": "code",
   "execution_count": 8,
   "id": "c59372a5",
   "metadata": {},
   "outputs": [
    {
     "name": "stderr",
     "output_type": "stream",
     "text": [
      "Truncation was not explicitly activated but `max_length` is provided a specific value, please use `truncation=True` to explicitly truncate examples to max length. Defaulting to 'longest_first' truncation strategy. If you encode pairs of sequences (GLUE-style) with the tokenizer you can select this strategy more precisely by providing a specific strategy to `truncation`.\n"
     ]
    },
    {
     "name": "stdout",
     "output_type": "stream",
     "text": [
      "0\n",
      "1\n",
      "2\n",
      "3\n",
      "4\n",
      "5\n",
      "6\n",
      "7\n",
      "8\n",
      "9\n",
      "10\n",
      "11\n",
      "12\n",
      "13\n",
      "14\n",
      "15\n",
      "16\n",
      "17\n",
      "18\n",
      "19\n",
      "20\n",
      "21\n",
      "22\n",
      "23\n",
      "24\n",
      "25\n",
      "26\n",
      "27\n",
      "28\n",
      "29\n",
      "30\n",
      "31\n",
      "32\n",
      "33\n",
      "34\n",
      "35\n",
      "36\n",
      "37\n",
      "38\n",
      "39\n",
      "40\n",
      "41\n",
      "42\n",
      "43\n",
      "44\n",
      "45\n",
      "46\n",
      "47\n",
      "48\n",
      "49\n",
      "50\n",
      "51\n",
      "52\n",
      "53\n",
      "54\n",
      "55\n",
      "56\n",
      "57\n",
      "58\n",
      "59\n",
      "60\n",
      "61\n",
      "62\n",
      "63\n",
      "64\n",
      "65\n",
      "66\n",
      "67\n",
      "68\n",
      "69\n",
      "70\n",
      "71\n",
      "72\n",
      "73\n",
      "74\n",
      "75\n",
      "76\n",
      "77\n",
      "78\n",
      "79\n",
      "80\n",
      "81\n",
      "82\n",
      "83\n",
      "84\n",
      "85\n",
      "86\n",
      "87\n",
      "88\n",
      "89\n",
      "90\n",
      "91\n",
      "92\n",
      "93\n",
      "94\n",
      "95\n",
      "96\n",
      "97\n",
      "98\n",
      "99\n",
      "100\n",
      "101\n",
      "102\n",
      "103\n",
      "104\n",
      "105\n",
      "106\n",
      "107\n",
      "108\n",
      "109\n",
      "110\n",
      "111\n",
      "112\n",
      "113\n",
      "114\n",
      "115\n",
      "116\n",
      "117\n",
      "118\n",
      "119\n"
     ]
    }
   ],
   "source": [
    "import torch\n",
    "from transformers import GPT2LMHeadModel, GPT2Tokenizer, AdamW\n",
    "\n",
    "# Load the GPT-2 model and tokenizer\n",
    "model_name = \"gpt2\"\n",
    "model = GPT2LMHeadModel.from_pretrained(model_name)\n",
    "tokenizer = GPT2Tokenizer.from_pretrained(model_name)\n",
    "# Define multiple question and answer pairs\n",
    "qa_pairs = [\n",
    "    (\"Which species are at the top of the food chain in coral reefs?\", \"sharks and giant moray. STOP\"),\n",
    "    (\"What fish eat coral?\", \"parrotfish and butterflyfish. STOP\"),\n",
    "    (\"Which coral reef fish has the shortest lifespan?\", \"seven-figure pygmy goby. STOP\"),\n",
    "    (\"What species in coral reefs can inflate themselves?\", \"puffers, striated frogfish, and porcupinefish. STOP\"),\n",
    "    (\"How do sea anemones protect themselves?\", \"tentacles that bristle tiny harpoons primed with toxins. STOP\"),\n",
    "    (\"What species commonly serves as a cleaner fish?\", \"bluestreak cleaner wrasse. STOP\"),\n",
    "    (\"What species in coral reefs eat sponges?\", \"emperor angelfish. STOP\"),\n",
    "    (\"What species in coral reefs eat stingrays?\", \"caribbean reef shark and great hammerheads. STOP\"),\n",
    "    (\"Which species in coral reefs are hermaphrodites\", \"grouper. STOP\"),\n",
    "    (\"What species in coral reefs is known to eat birds?\", \"blacktip reef shark. STOP\"),\n",
    "    (\"What percent of the ocean is covered by coral reefs?\", \"less than 1%. STOP\"),\n",
    "    (\"When is the colouration of clown triggerfish vivid?\", \"when they are not threatened. STOP\"),\n",
    "    (\"What are reef lizardfish coated in?\", \"mucus. STOP\"),\n",
    "    (\"Name some coral reef fish that feed on zooplankton?\", \"damselfish, surgeonfish, and cardinalfish. STOP\"),\n",
    "    (\"Parrotfish often school with what other species?\", \"spinefoot rabbitfish. STOP\"),\n",
    "    (\"What species eat sea anemones?\", \"saddle butterflyfish. STOP\"),\n",
    "    (\"How many venomous spines does the reef stonefish have?\", \"13. STOP\"),\n",
    "    (\"What predators eat reef stonefish?\", \"bottom feeding rays, sharks, and Stokes' seasnake. STOP\"),\n",
    "    (\"What toxin is sometimes found coral reef carnivores?\", \"ciguatera toxin. STOP\"),\n",
    "    (\"How long are whitetip reef sharks?\", \"usually less than 1.6 meters. STOP\"),\n",
    "    (\"How long are whitetip reef sharks?\", \"less than 1.6 meters. STOP\"),\n",
    "    (\"What predators eat whitetip reef sharks?\", \"tiger sharks and Galapagos sharks. STOP\"),\n",
    "    (\"What predators eat blacktip reef sharks?\", \"groupers, grey reef sharks, tiger sharks, and members of their own species. STOP\"),\n",
    "    (\"What sharks are known for having small home ranges?\", \"blacktip reef sharks. STOP\"),\n",
    "    (\"Are grey reef sharks social or territorial?\", \"social. STOP\"),\n",
    "    (\"Name a coral reef shark that likes drop-offs?\", \"whitetip reef shark, blacktip reef shark, or grey reef shark. STOP\"),\n",
    "    (\"What do benthic algae grow on?\", \"dead coral and other inert surfaces. STOP\"),\n",
    "    (\"What do goatfish use to search for food?\", \"chemosensory barbels (whiskers). STOP\"),   \n",
    "    (\"Goatfish commonly change their colouration to match that of which fish?\", \"snapper. STOP\"),   \n",
    "    (\"What does the tassled scorpionfish camouflage itself to look like?\", \"coral encrusted sea floor. STOP\"),  \n",
    "    (\"What are some threats to the survival of coral reef fish?\", \"pollution, overfishing, and habitat loss and degradation. STOP\"),  \n",
    "    (\"What percent of marine fish species live in coral reefs?\", \"25 percent. STOP\"), \n",
    "    (\"Where do most coral reef fish have spines?\", \"on their fins. STOP\"),  \n",
    "    (\"Why do toadfish sing?\", \"to attract mates. STOP\"), \n",
    "    (\"What do Synchiropus splendidus eat?\", \"small crustaceans and other invertebrates. STOP\"), \n",
    "    (\"What color is the mouth of the clown triggerfish?\", \"bright yellow. STOP\"),   \n",
    "    (\"How many species of parasites would go extinct if one coral reef fish species of average size went extinct?\", \"at least 10. STOP\"),      \n",
    "    (\"What types of sharks can enter brackish or freshwater environments?\", \"blacktip reef sharks. STOP\"),\n",
    "    (\"What sound frequency do whitetip reef sharks recognize as coming from struggling fish?\", \"25 - 100 Hz. STOP\"),\n",
    "    (\"Can whitetip reef sharks rest on the sea floor or do they have to keep moving?\", \"They can rest on the sea floor. STOP\"),    \n",
    "    (\"Are whitetip reef sharks better at hunting in tight crevices or in open water?\", \"tight crevices. STOP\"),\n",
    "    (\"How long are Caribbean reef sharks?\", \"up to 3 meters. STOP\"), \n",
    "    (\"Titan triggerfish use jets of water to expose what species buried in the sand?\", \"sand dollars. STOP\"), \n",
    "    (\"Are coral reef fish bodies often optimized for straight-line speed or for manoeuvrability?\", \"manoeuvrability. STOP\"),\n",
    "    (\"Where does the foureye butterflyfish get its name from?\", \"the large dark spots each side of their bodies. STOP\"), \n",
    "    (\"How long are striated frogfish?\", \"about 10 centimeters. STOP\"),\n",
    "    (\"Why do some coral reef fish engage in schooling?\", \"defense against predators through better predator detection. STOP\"),\n",
    "    (\"What are lateral lines in coral reef fish?\", \"pressure sensors that allow schooling fish to feel each others' movements and stay synchronized. STOP\"),\n",
    "    (\"What is a primary producer?\", \"a plant that synthesizes food from solar energy. STOP\"), \n",
    "    (\"What is the name for the stinging cells in fire coral?\", \" nematocysts. STOP\")\n",
    "]\n",
    "\n",
    "# Concatenate the question and answer pairs with appropriate formatting\n",
    "formatted_pairs = [f\"Q: {q}\\nA: {a}\\n\" for q, a in qa_pairs]\n",
    "qa_text = \"\\n\".join(formatted_pairs)\n",
    "\n",
    "# Fine-tune the GPT-2 model with the Q&A pairs\n",
    "inputs = tokenizer.encode(qa_text, return_tensors=\"pt\", max_length = 1000)\n",
    "model.train()\n",
    "\n",
    "# Define the optimizer\n",
    "optimizer = AdamW(model.parameters(), lr=1e-5)\n",
    "\n",
    "# Run the fine-tuning loop (example: 1 epoch)\n",
    "for j in range(120):\n",
    "    print (j)\n",
    "    outputs = model(inputs, labels=inputs)\n",
    "    loss = outputs.loss\n",
    "    loss.backward()\n",
    "    optimizer.step()\n",
    "    optimizer.zero_grad()\n",
    "\n",
    "# Save the fine-tuned model\n",
    "model.save_pretrained(\"fine-tuned-gpt2\")\n",
    "\n",
    "# Load the fine-tuned model\n",
    "fine_tuned_model = GPT2LMHeadModel.from_pretrained(\"fine-tuned-gpt2\")\n",
    "\n"
   ]
  },
  {
   "cell_type": "code",
   "execution_count": 9,
   "id": "0cd5e171",
   "metadata": {},
   "outputs": [
    {
     "name": "stderr",
     "output_type": "stream",
     "text": [
      "The attention mask and the pad token id were not set. As a consequence, you may observe unexpected behavior. Please pass your input's `attention_mask` to obtain reliable results.\n",
      "Setting `pad_token_id` to `eos_token_id`:50256 for open-end generation.\n"
     ]
    },
    {
     "name": "stdout",
     "output_type": "stream",
     "text": [
      "Generated completion for the test question:\n",
      "['Q: How many species of fish live in coral reefs?', 'A: About 1,000 species of coral reef fish live in coral reefs.']\n"
     ]
    }
   ],
   "source": [
    "# Test the fine-tuned model with a question\n",
    "test_question = \"Q: How many species of fish live in coral reefs?\"\n",
    "\n",
    "# Generate a completion for the test question\n",
    "input_ids = tokenizer.encode(test_question, return_tensors=\"pt\")\n",
    "output = fine_tuned_model.generate(input_ids, max_length=100)\n",
    "completion = tokenizer.decode(output[0], skip_special_tokens=True)\n",
    "\n",
    "print(\"Generated completion for the test question:\")\n",
    "print(completion.split(\"STOP\")[0].splitlines()[0:2])\n"
   ]
  },
  {
   "cell_type": "code",
   "execution_count": 10,
   "id": "28502853",
   "metadata": {},
   "outputs": [
    {
     "name": "stderr",
     "output_type": "stream",
     "text": [
      "The attention mask and the pad token id were not set. As a consequence, you may observe unexpected behavior. Please pass your input's `attention_mask` to obtain reliable results.\n",
      "Setting `pad_token_id` to `eos_token_id`:50256 for open-end generation.\n"
     ]
    },
    {
     "name": "stdout",
     "output_type": "stream",
     "text": [
      "Generated completion for the test question:\n",
      "['Q: What is the most venomous fish?', 'A: blacktip reef shark.']\n"
     ]
    }
   ],
   "source": [
    "# Test the fine-tuned model with a question\n",
    "test_question = \"Q: What is the most venomous fish?\"\n",
    "\n",
    "# Generate a completion for the test question\n",
    "input_ids = tokenizer.encode(test_question, return_tensors=\"pt\")\n",
    "output = fine_tuned_model.generate(input_ids, max_length=100)\n",
    "completion = tokenizer.decode(output[0], skip_special_tokens=True)\n",
    "\n",
    "print(\"Generated completion for the test question:\")\n",
    "print(completion.split(\"STOP\")[0].splitlines()[0:2])\n"
   ]
  },
  {
   "cell_type": "code",
   "execution_count": 11,
   "id": "18c021ec",
   "metadata": {},
   "outputs": [
    {
     "name": "stderr",
     "output_type": "stream",
     "text": [
      "The attention mask and the pad token id were not set. As a consequence, you may observe unexpected behavior. Please pass your input's `attention_mask` to obtain reliable results.\n",
      "Setting `pad_token_id` to `eos_token_id`:50256 for open-end generation.\n"
     ]
    },
    {
     "name": "stdout",
     "output_type": "stream",
     "text": [
      "Generated completion for the test question:\n",
      "['Q: What sharks live in coral reefs?', 'A: sharks. Sharks are the most abundant marine invertebrates on Earth. They are the largest marine invertebrates on Earth and are responsible for over half of all marine invertebrates. Sharks are also the most abundant marine invertebrates on Earth and are responsible for over half of all marine invertebrates. Sharks are also the most abundant marine invertebrates on Earth and are responsible for over half of all marine invertebrates.']\n"
     ]
    }
   ],
   "source": [
    "# Test the fine-tuned model with a question\n",
    "test_question = \"Q: What sharks live in coral reefs?\"\n",
    "\n",
    "# Generate a completion for the test question\n",
    "input_ids = tokenizer.encode(test_question, return_tensors=\"pt\")\n",
    "output = fine_tuned_model.generate(input_ids, max_length=100)\n",
    "completion = tokenizer.decode(output[0], skip_special_tokens=True)\n",
    "\n",
    "print(\"Generated completion for the test question:\")\n",
    "print(completion.split(\"STOP\")[0].splitlines()[0:2])"
   ]
  },
  {
   "cell_type": "code",
   "execution_count": 12,
   "id": "5939cefb",
   "metadata": {},
   "outputs": [
    {
     "name": "stderr",
     "output_type": "stream",
     "text": [
      "The attention mask and the pad token id were not set. As a consequence, you may observe unexpected behavior. Please pass your input's `attention_mask` to obtain reliable results.\n",
      "Setting `pad_token_id` to `eos_token_id`:50256 for open-end generation.\n"
     ]
    },
    {
     "name": "stdout",
     "output_type": "stream",
     "text": [
      "Generated completion for the test question:\n",
      "['Q: What fish are poisonous?', 'A: blacktip reef shark and blacktip reef shark.']\n"
     ]
    }
   ],
   "source": [
    "# Test the fine-tuned model with a question\n",
    "test_question = \"Q: What fish are poisonous?\"\n",
    "\n",
    "# Generate a completion for the test question\n",
    "input_ids = tokenizer.encode(test_question, return_tensors=\"pt\")\n",
    "output = fine_tuned_model.generate(input_ids, max_length=100)\n",
    "completion = tokenizer.decode(output[0], skip_special_tokens=True)\n",
    "\n",
    "print(\"Generated completion for the test question:\")\n",
    "print(completion.split(\"STOP\")[0].splitlines()[0:2])"
   ]
  },
  {
   "cell_type": "code",
   "execution_count": 13,
   "id": "d34030f0",
   "metadata": {},
   "outputs": [
    {
     "name": "stderr",
     "output_type": "stream",
     "text": [
      "The attention mask and the pad token id were not set. As a consequence, you may observe unexpected behavior. Please pass your input's `attention_mask` to obtain reliable results.\n",
      "Setting `pad_token_id` to `eos_token_id`:50256 for open-end generation.\n"
     ]
    },
    {
     "name": "stdout",
     "output_type": "stream",
     "text": [
      "Generated completion for the test question:\n",
      "['Q: What fish can electrocute you?', 'A: blacktip reef shark']\n"
     ]
    }
   ],
   "source": [
    "# Test the fine-tuned model with a question\n",
    "test_question = \"Q: What fish can electrocute you?\"\n",
    "\n",
    "# Generate a completion for the test question\n",
    "input_ids = tokenizer.encode(test_question, return_tensors=\"pt\")\n",
    "output = fine_tuned_model.generate(input_ids, max_length=100)\n",
    "completion = tokenizer.decode(output[0], skip_special_tokens=True)\n",
    "\n",
    "print(\"Generated completion for the test question:\")\n",
    "print(completion.split(\"STOP\")[0].splitlines()[0:2])"
   ]
  },
  {
   "cell_type": "code",
   "execution_count": 14,
   "id": "a90edc58",
   "metadata": {},
   "outputs": [
    {
     "name": "stderr",
     "output_type": "stream",
     "text": [
      "The attention mask and the pad token id were not set. As a consequence, you may observe unexpected behavior. Please pass your input's `attention_mask` to obtain reliable results.\n",
      "Setting `pad_token_id` to `eos_token_id`:50256 for open-end generation.\n"
     ]
    },
    {
     "name": "stdout",
     "output_type": "stream",
     "text": [
      "Generated completion for the test question:\n",
      "['Q: What species can sting you?', 'A: sharks and rays.']\n"
     ]
    }
   ],
   "source": [
    "# Test the fine-tuned model with a question\n",
    "test_question = \"Q: What species can sting you?\"\n",
    "\n",
    "# Generate a completion for the test question\n",
    "input_ids = tokenizer.encode(test_question, return_tensors=\"pt\")\n",
    "output = fine_tuned_model.generate(input_ids, max_length=100)\n",
    "completion = tokenizer.decode(output[0], skip_special_tokens=True)\n",
    "\n",
    "print(\"Generated completion for the test question:\")\n",
    "print(completion.split(\"STOP\")[0].splitlines()[0:2])"
   ]
  },
  {
   "cell_type": "code",
   "execution_count": 15,
   "id": "99cedfc6",
   "metadata": {},
   "outputs": [
    {
     "name": "stderr",
     "output_type": "stream",
     "text": [
      "The attention mask and the pad token id were not set. As a consequence, you may observe unexpected behavior. Please pass your input's `attention_mask` to obtain reliable results.\n",
      "Setting `pad_token_id` to `eos_token_id`:50256 for open-end generation.\n"
     ]
    },
    {
     "name": "stdout",
     "output_type": "stream",
     "text": [
      "Generated completion for the test question:\n",
      "['Q: What species are parasitic?', 'A: scorpionfish.']\n"
     ]
    }
   ],
   "source": [
    "# Test the fine-tuned model with a question\n",
    "test_question = \"Q: What species are parasitic?\"\n",
    "\n",
    "# Generate a completion for the test question\n",
    "input_ids = tokenizer.encode(test_question, return_tensors=\"pt\")\n",
    "output = fine_tuned_model.generate(input_ids, max_length=100)\n",
    "completion = tokenizer.decode(output[0], skip_special_tokens=True)\n",
    "\n",
    "print(\"Generated completion for the test question:\")\n",
    "print(completion.split(\"STOP\")[0].splitlines()[0:2])"
   ]
  },
  {
   "cell_type": "code",
   "execution_count": 16,
   "id": "7d5a151a",
   "metadata": {},
   "outputs": [
    {
     "name": "stderr",
     "output_type": "stream",
     "text": [
      "The attention mask and the pad token id were not set. As a consequence, you may observe unexpected behavior. Please pass your input's `attention_mask` to obtain reliable results.\n",
      "Setting `pad_token_id` to `eos_token_id`:50256 for open-end generation.\n"
     ]
    },
    {
     "name": "stdout",
     "output_type": "stream",
     "text": [
      "Generated completion for the test question:\n",
      "['Q: What species are venomous?', 'A: scorpionfish.']\n"
     ]
    }
   ],
   "source": [
    "# Test the fine-tuned model with a question\n",
    "test_question = \"Q: What species are venomous?\"\n",
    "\n",
    "# Generate a completion for the test question\n",
    "input_ids = tokenizer.encode(test_question, return_tensors=\"pt\")\n",
    "output = fine_tuned_model.generate(input_ids, max_length=100)\n",
    "completion = tokenizer.decode(output[0], skip_special_tokens=True)\n",
    "\n",
    "print(\"Generated completion for the test question:\")\n",
    "print(completion.split(\"STOP\")[0].splitlines()[0:2])"
   ]
  },
  {
   "cell_type": "code",
   "execution_count": 17,
   "id": "a7ee6ee8",
   "metadata": {},
   "outputs": [
    {
     "name": "stderr",
     "output_type": "stream",
     "text": [
      "The attention mask and the pad token id were not set. As a consequence, you may observe unexpected behavior. Please pass your input's `attention_mask` to obtain reliable results.\n",
      "Setting `pad_token_id` to `eos_token_id`:50256 for open-end generation.\n"
     ]
    },
    {
     "name": "stdout",
     "output_type": "stream",
     "text": [
      "Generated completion for the test question:\n",
      "['Q: What species are known for attacking scuba divers?', 'A: sharks, rays, and other sharks.']\n"
     ]
    }
   ],
   "source": [
    "# Test the fine-tuned model with a question\n",
    "test_question = \"Q: What species are known for attacking scuba divers?\"\n",
    "\n",
    "# Generate a completion for the test question\n",
    "input_ids = tokenizer.encode(test_question, return_tensors=\"pt\")\n",
    "output = fine_tuned_model.generate(input_ids, max_length=100)\n",
    "completion = tokenizer.decode(output[0], skip_special_tokens=True)\n",
    "\n",
    "print(\"Generated completion for the test question:\")\n",
    "print(completion.split(\"STOP\")[0].splitlines()[0:2])"
   ]
  },
  {
   "cell_type": "code",
   "execution_count": 18,
   "id": "5e5a100b",
   "metadata": {},
   "outputs": [
    {
     "name": "stderr",
     "output_type": "stream",
     "text": [
      "The attention mask and the pad token id were not set. As a consequence, you may observe unexpected behavior. Please pass your input's `attention_mask` to obtain reliable results.\n",
      "Setting `pad_token_id` to `eos_token_id`:50256 for open-end generation.\n"
     ]
    },
    {
     "name": "stdout",
     "output_type": "stream",
     "text": [
      "Generated completion for the test question:\n",
      "['Q: What are common herbivorous fish?', \"A: Stokes' sea bass. Stokes' sea bass are carnivorous fish that eat fish that are not their own. Stokes' sea bass are carnivorous fish that eat fish that are not their own. Stokes' sea bass are carnivorous fish that eat fish that are not their own.\"]\n"
     ]
    }
   ],
   "source": [
    "# Test the fine-tuned model with a question\n",
    "test_question = \"Q: What are common herbivorous fish?\"\n",
    "\n",
    "# Generate a completion for the test question\n",
    "input_ids = tokenizer.encode(test_question, return_tensors=\"pt\")\n",
    "output = fine_tuned_model.generate(input_ids, max_length=100)\n",
    "completion = tokenizer.decode(output[0], skip_special_tokens=True)\n",
    "\n",
    "print(\"Generated completion for the test question:\")\n",
    "print(completion.split(\"STOP\")[0].splitlines()[0:2])"
   ]
  },
  {
   "cell_type": "code",
   "execution_count": 19,
   "id": "9d7b9b52",
   "metadata": {},
   "outputs": [
    {
     "name": "stderr",
     "output_type": "stream",
     "text": [
      "The attention mask and the pad token id were not set. As a consequence, you may observe unexpected behavior. Please pass your input's `attention_mask` to obtain reliable results.\n",
      "Setting `pad_token_id` to `eos_token_id`:50256 for open-end generation.\n"
     ]
    },
    {
     "name": "stdout",
     "output_type": "stream",
     "text": [
      "Generated completion for the test question:\n",
      "['Q: Why do fish camouflage themselves?', 'A: Because they are predators.']\n"
     ]
    }
   ],
   "source": [
    "# Test the fine-tuned model with a question\n",
    "test_question = \"Q: Why do fish camouflage themselves?\"\n",
    "\n",
    "# Generate a completion for the test question\n",
    "input_ids = tokenizer.encode(test_question, return_tensors=\"pt\")\n",
    "output = fine_tuned_model.generate(input_ids, max_length=100)\n",
    "completion = tokenizer.decode(output[0], skip_special_tokens=True)\n",
    "\n",
    "print(\"Generated completion for the test question:\")\n",
    "print(completion.split(\"STOP\")[0].splitlines()[0:2])"
   ]
  },
  {
   "cell_type": "code",
   "execution_count": 20,
   "id": "59c68605",
   "metadata": {},
   "outputs": [
    {
     "name": "stderr",
     "output_type": "stream",
     "text": [
      "The attention mask and the pad token id were not set. As a consequence, you may observe unexpected behavior. Please pass your input's `attention_mask` to obtain reliable results.\n",
      "Setting `pad_token_id` to `eos_token_id`:50256 for open-end generation.\n"
     ]
    },
    {
     "name": "stdout",
     "output_type": "stream",
     "text": [
      "Generated completion for the test question:\n",
      "['Q: How do fish get rid of their parasites?', 'A: They use parasites to attract mates.']\n"
     ]
    }
   ],
   "source": [
    "# Test the fine-tuned model with a question\n",
    "test_question = \"Q: How do fish get rid of their parasites?\"\n",
    "\n",
    "# Generate a completion for the test question\n",
    "input_ids = tokenizer.encode(test_question, return_tensors=\"pt\")\n",
    "output = fine_tuned_model.generate(input_ids, max_length=100)\n",
    "completion = tokenizer.decode(output[0], skip_special_tokens=True)\n",
    "\n",
    "print(\"Generated completion for the test question:\")\n",
    "print(completion.split(\"STOP\")[0].splitlines()[0:2])"
   ]
  },
  {
   "cell_type": "code",
   "execution_count": 21,
   "id": "de190098",
   "metadata": {},
   "outputs": [
    {
     "name": "stderr",
     "output_type": "stream",
     "text": [
      "The attention mask and the pad token id were not set. As a consequence, you may observe unexpected behavior. Please pass your input's `attention_mask` to obtain reliable results.\n",
      "Setting `pad_token_id` to `eos_token_id`:50256 for open-end generation.\n"
     ]
    },
    {
     "name": "stdout",
     "output_type": "stream",
     "text": [
      "Generated completion for the test question:\n",
      "['Q: What species have a mutualistic relationship?', 'A: sharks and sea urchins.']\n"
     ]
    }
   ],
   "source": [
    "# Test the fine-tuned model with a question\n",
    "test_question = \"Q: What species have a mutualistic relationship?\"\n",
    "\n",
    "# Generate a completion for the test question\n",
    "input_ids = tokenizer.encode(test_question, return_tensors=\"pt\")\n",
    "output = fine_tuned_model.generate(input_ids, max_length=100)\n",
    "completion = tokenizer.decode(output[0], skip_special_tokens=True)\n",
    "\n",
    "print(\"Generated completion for the test question:\")\n",
    "print(completion.split(\"STOP\")[0].splitlines()[0:2])"
   ]
  },
  {
   "cell_type": "code",
   "execution_count": 22,
   "id": "cc8587c2",
   "metadata": {},
   "outputs": [
    {
     "name": "stderr",
     "output_type": "stream",
     "text": [
      "The attention mask and the pad token id were not set. As a consequence, you may observe unexpected behavior. Please pass your input's `attention_mask` to obtain reliable results.\n",
      "Setting `pad_token_id` to `eos_token_id`:50256 for open-end generation.\n"
     ]
    },
    {
     "name": "stdout",
     "output_type": "stream",
     "text": [
      "Generated completion for the test question:\n",
      "['Q: What species have a commensalistic relationship?', 'A: giant butterfly and butterfly.']\n"
     ]
    }
   ],
   "source": [
    "# Test the fine-tuned model with a question\n",
    "test_question = \"Q: What species have a commensalistic relationship?\"\n",
    "\n",
    "# Generate a completion for the test question\n",
    "input_ids = tokenizer.encode(test_question, return_tensors=\"pt\")\n",
    "output = fine_tuned_model.generate(input_ids, max_length=100)\n",
    "completion = tokenizer.decode(output[0], skip_special_tokens=True)\n",
    "\n",
    "print(\"Generated completion for the test question:\")\n",
    "print(completion.split(\"STOP\")[0].splitlines()[0:2])"
   ]
  },
  {
   "cell_type": "code",
   "execution_count": 23,
   "id": "1480fd38",
   "metadata": {},
   "outputs": [
    {
     "name": "stderr",
     "output_type": "stream",
     "text": [
      "The attention mask and the pad token id were not set. As a consequence, you may observe unexpected behavior. Please pass your input's `attention_mask` to obtain reliable results.\n",
      "Setting `pad_token_id` to `eos_token_id`:50256 for open-end generation.\n"
     ]
    },
    {
     "name": "stdout",
     "output_type": "stream",
     "text": [
      "Generated completion for the test question:\n",
      "['Q: Where in the world are coral reefs found?', 'A: coral reefs are found in tropical and subtropical environments. They are the most abundant coral reef species in the world.']\n"
     ]
    }
   ],
   "source": [
    "# Test the fine-tuned model with a question\n",
    "test_question = \"Q: Where in the world are coral reefs found?\"\n",
    "\n",
    "# Generate a completion for the test question\n",
    "input_ids = tokenizer.encode(test_question, return_tensors=\"pt\")\n",
    "output = fine_tuned_model.generate(input_ids, max_length=100)\n",
    "completion = tokenizer.decode(output[0], skip_special_tokens=True)\n",
    "\n",
    "print(\"Generated completion for the test question:\")\n",
    "print(completion.split(\"STOP\")[0].splitlines()[0:2])"
   ]
  },
  {
   "cell_type": "code",
   "execution_count": 24,
   "id": "602e43fd",
   "metadata": {},
   "outputs": [
    {
     "name": "stderr",
     "output_type": "stream",
     "text": [
      "The attention mask and the pad token id were not set. As a consequence, you may observe unexpected behavior. Please pass your input's `attention_mask` to obtain reliable results.\n",
      "Setting `pad_token_id` to `eos_token_id`:50256 for open-end generation.\n"
     ]
    },
    {
     "name": "stdout",
     "output_type": "stream",
     "text": [
      "Generated completion for the test question:\n",
      "['Q: What species engage in schooling?', 'A: sharks, which are the most common predator of sharks.']\n"
     ]
    }
   ],
   "source": [
    "# Test the fine-tuned model with a question\n",
    "test_question = \"Q: What species engage in schooling?\"\n",
    "\n",
    "# Generate a completion for the test question\n",
    "input_ids = tokenizer.encode(test_question, return_tensors=\"pt\")\n",
    "output = fine_tuned_model.generate(input_ids, max_length=100)\n",
    "completion = tokenizer.decode(output[0], skip_special_tokens=True)\n",
    "\n",
    "print(\"Generated completion for the test question:\")\n",
    "print(completion.split(\"STOP\")[0].splitlines()[0:2])"
   ]
  },
  {
   "cell_type": "code",
   "execution_count": 30,
   "id": "68a09451",
   "metadata": {},
   "outputs": [
    {
     "name": "stderr",
     "output_type": "stream",
     "text": [
      "The attention mask and the pad token id were not set. As a consequence, you may observe unexpected behavior. Please pass your input's `attention_mask` to obtain reliable results.\n",
      "Setting `pad_token_id` to `eos_token_id`:50256 for open-end generation.\n"
     ]
    },
    {
     "name": "stdout",
     "output_type": "stream",
     "text": [
      "Generated completion for the test question:\n",
      "['Q: What species are ambush predators?', 'A: sharks and giant moray. ']\n"
     ]
    }
   ],
   "source": [
    "# Test the fine-tuned model with a question\n",
    "test_question = \"Q: What species are ambush predators?\"\n",
    "\n",
    "# Generate a completion for the test question\n",
    "input_ids = tokenizer.encode(test_question, return_tensors=\"pt\")\n",
    "output = fine_tuned_model.generate(input_ids, max_length=100)\n",
    "completion = tokenizer.decode(output[0], skip_special_tokens=True)\n",
    "\n",
    "print(\"Generated completion for the test question:\")\n",
    "print(completion.split(\"STOP\")[0].splitlines()[0:2])"
   ]
  },
  {
   "cell_type": "code",
   "execution_count": 25,
   "id": "2d4926ff",
   "metadata": {},
   "outputs": [
    {
     "name": "stderr",
     "output_type": "stream",
     "text": [
      "The attention mask and the pad token id were not set. As a consequence, you may observe unexpected behavior. Please pass your input's `attention_mask` to obtain reliable results.\n",
      "Setting `pad_token_id` to `eos_token_id`:50256 for open-end generation.\n"
     ]
    },
    {
     "name": "stdout",
     "output_type": "stream",
     "text": [
      "Generated completion for the test question:\n",
      "['Q: Which species are ambush predators?', 'A: giant frogfish.']\n"
     ]
    }
   ],
   "source": [
    "# Test the fine-tuned model with a question\n",
    "test_question = \"Q: Which species are ambush predators?\"\n",
    "\n",
    "# Generate a completion for the test question\n",
    "input_ids = tokenizer.encode(test_question, return_tensors=\"pt\")\n",
    "output = fine_tuned_model.generate(input_ids, max_length=100)\n",
    "completion = tokenizer.decode(output[0], skip_special_tokens=True)\n",
    "\n",
    "print(\"Generated completion for the test question:\")\n",
    "print(completion.split(\"STOP\")[0].splitlines()[0:2])"
   ]
  },
  {
   "cell_type": "code",
   "execution_count": 26,
   "id": "0d405fe5",
   "metadata": {},
   "outputs": [
    {
     "name": "stderr",
     "output_type": "stream",
     "text": [
      "The attention mask and the pad token id were not set. As a consequence, you may observe unexpected behavior. Please pass your input's `attention_mask` to obtain reliable results.\n",
      "Setting `pad_token_id` to `eos_token_id`:50256 for open-end generation.\n"
     ]
    },
    {
     "name": "stdout",
     "output_type": "stream",
     "text": [
      "Generated completion for the test question:\n",
      "['Q: Why are some coral reef fish colorful?', 'A: Because they are not as bright as other reef fish.']\n"
     ]
    }
   ],
   "source": [
    "# Test the fine-tuned model with a question\n",
    "test_question = \"Q: Why are some coral reef fish colorful?\"\n",
    "\n",
    "# Generate a completion for the test question\n",
    "input_ids = tokenizer.encode(test_question, return_tensors=\"pt\")\n",
    "output = fine_tuned_model.generate(input_ids, max_length=100)\n",
    "completion = tokenizer.decode(output[0], skip_special_tokens=True)\n",
    "\n",
    "print(\"Generated completion for the test question:\")\n",
    "print(completion.split(\"STOP\")[0].splitlines()[0:2])"
   ]
  },
  {
   "cell_type": "code",
   "execution_count": 27,
   "id": "301f292f",
   "metadata": {},
   "outputs": [
    {
     "name": "stderr",
     "output_type": "stream",
     "text": [
      "The attention mask and the pad token id were not set. As a consequence, you may observe unexpected behavior. Please pass your input's `attention_mask` to obtain reliable results.\n",
      "Setting `pad_token_id` to `eos_token_id`:50256 for open-end generation.\n"
     ]
    },
    {
     "name": "stdout",
     "output_type": "stream",
     "text": [
      "Generated completion for the test question:\n",
      "['Q: Which species is blue?', 'A: blackfish.']\n"
     ]
    }
   ],
   "source": [
    "# Test the fine-tuned model with a question\n",
    "test_question = \"Q: Which species is blue?\"\n",
    "\n",
    "# Generate a completion for the test question\n",
    "input_ids = tokenizer.encode(test_question, return_tensors=\"pt\")\n",
    "output = fine_tuned_model.generate(input_ids, max_length=100)\n",
    "completion = tokenizer.decode(output[0], skip_special_tokens=True)\n",
    "\n",
    "print(\"Generated completion for the test question:\")\n",
    "print(completion.split(\"STOP\")[0].splitlines()[0:2])"
   ]
  },
  {
   "cell_type": "code",
   "execution_count": 28,
   "id": "9ba1e607",
   "metadata": {},
   "outputs": [
    {
     "name": "stderr",
     "output_type": "stream",
     "text": [
      "The attention mask and the pad token id were not set. As a consequence, you may observe unexpected behavior. Please pass your input's `attention_mask` to obtain reliable results.\n",
      "Setting `pad_token_id` to `eos_token_id`:50256 for open-end generation.\n"
     ]
    },
    {
     "name": "stdout",
     "output_type": "stream",
     "text": [
      "Generated completion for the test question:\n",
      "['Q: What is the slowest species that lives in coral reefs?', 'A: sharks.']\n"
     ]
    }
   ],
   "source": [
    "# Test the fine-tuned model with a question\n",
    "test_question = \"Q: What is the slowest species that lives in coral reefs?\"\n",
    "\n",
    "# Generate a completion for the test question\n",
    "input_ids = tokenizer.encode(test_question, return_tensors=\"pt\")\n",
    "output = fine_tuned_model.generate(input_ids, max_length=100)\n",
    "completion = tokenizer.decode(output[0], skip_special_tokens=True)\n",
    "\n",
    "print(\"Generated completion for the test question:\")\n",
    "print(completion.split(\"STOP\")[0].splitlines()[0:2])"
   ]
  },
  {
   "cell_type": "code",
   "execution_count": 31,
   "id": "f3e7a4e3",
   "metadata": {},
   "outputs": [],
   "source": [
    "for i in range(20):\n",
    "    chatbot_models.append(2)\n",
    "    \n",
    "    \n",
    "model_2_performance_list = [\"Partially Correct\",\n",
    "                          \"Incorrect\",\n",
    "                          \"Incorrect\",\n",
    "                          \"Incorrect\",\n",
    "                          \"Incorrect\", \n",
    "                          \"Partially Correct\",\n",
    "                          \"Incorrect\",\n",
    "                          \"Correct\",\n",
    "                          \"Partially Correct\",\n",
    "                          \"Incorrect\",\n",
    "                          \"Partially Correct\",\n",
    "                          \"Incorrect\",\n",
    "                          \"Incorrect\",\n",
    "                          \"Incorrect\",\n",
    "                          \"Correct\",\n",
    "                          \"Incorrect\",\n",
    "                          \"Correct\",\n",
    "                          \"Incorrect\",\n",
    "                          \"Incorrect\",\n",
    "                          \"Incorrect\"]\n"
   ]
  },
  {
   "cell_type": "markdown",
   "id": "ebd3fafe",
   "metadata": {},
   "source": [
    "## 3) Chatbot 3 - Chatbot Emphasizing Cosine Similarity of TF-IDF Representations of Sententces"
   ]
  },
  {
   "cell_type": "code",
   "execution_count": 35,
   "id": "72628a3e",
   "metadata": {},
   "outputs": [],
   "source": [
    "import io\n",
    "import random\n",
    "import string # to process standard python strings\n",
    "import warnings\n",
    "import numpy as np\n",
    "from sklearn.feature_extraction.text import TfidfVectorizer\n",
    "from sklearn.metrics.pairwise import cosine_similarity\n",
    "import warnings\n",
    "warnings.filterwarnings('ignore')"
   ]
  },
  {
   "cell_type": "code",
   "execution_count": 36,
   "id": "ff400af3",
   "metadata": {},
   "outputs": [
    {
     "data": {
      "text/plain": [
       "True"
      ]
     },
     "execution_count": 36,
     "metadata": {},
     "output_type": "execute_result"
    }
   ],
   "source": [
    "import nltk\n",
    "from nltk.stem import WordNetLemmatizer\n",
    "nltk.download('popular', quiet=True) # for downloading packages\n",
    "#nltk.download('punkt') # first-time use only\n",
    "#nltk.download('wordnet') # first-time use only"
   ]
  },
  {
   "cell_type": "code",
   "execution_count": 37,
   "id": "f8b54d67",
   "metadata": {},
   "outputs": [],
   "source": [
    "CORPUS_PATH = 'C:/Users/steve/OneDrive/Desktop/Github/Natural_Language_Processing/Chatbot Assignment/coral_reef_fish.txt'\n",
    "f=open(CORPUS_PATH,'r',errors = 'ignore')\n",
    "raw=f.read()\n",
    "raw = raw.lower()# converts to lowercase"
   ]
  },
  {
   "cell_type": "code",
   "execution_count": 38,
   "id": "cd876b5e",
   "metadata": {},
   "outputs": [],
   "source": [
    "sent_tokens = nltk.sent_tokenize(raw)# converts to list of sentences \n",
    "word_tokens = nltk.word_tokenize(raw)# converts to list of words"
   ]
  },
  {
   "cell_type": "code",
   "execution_count": 39,
   "id": "0c3be15b",
   "metadata": {},
   "outputs": [],
   "source": [
    "lemmer = nltk.stem.WordNetLemmatizer()\n",
    "#WordNet is a semantically-oriented dictionary of English included in NLTK.\n",
    "def LemTokens(tokens):\n",
    "    return [lemmer.lemmatize(token) for token in tokens]\n",
    "remove_punct_dict = dict((ord(punct), None) for punct in string.punctuation)\n",
    "\n",
    "def LemNormalize(text):\n",
    "    return LemTokens(nltk.word_tokenize(text.lower().translate(remove_punct_dict)))"
   ]
  },
  {
   "cell_type": "code",
   "execution_count": 40,
   "id": "fd25bc1d",
   "metadata": {},
   "outputs": [],
   "source": [
    "GREETING_INPUTS = (\"hello\", \"hi\", \"greetings\", \"sup\", \"what's up\",\"hey\",)\n",
    "GREETING_RESPONSES = [\"Hi\", \"Hey\", \"*nods*\", \"Hi there\", \"Hello\", \"I am glad! You are talking to me\"]\n",
    "def greeting(sentence):\n",
    " \n",
    "    for word in sentence.split():\n",
    "        if word.lower() in GREETING_INPUTS:\n",
    "            return random.choice(GREETING_RESPONSES)"
   ]
  },
  {
   "cell_type": "code",
   "execution_count": 41,
   "id": "075fbb64",
   "metadata": {},
   "outputs": [],
   "source": [
    "def response(user_response):\n",
    "    robo_response=''\n",
    "    sent_tokens.append(user_response)\n",
    "    TfidfVec = TfidfVectorizer(tokenizer=LemNormalize, stop_words='english')\n",
    "    tfidf = TfidfVec.fit_transform(sent_tokens)\n",
    "    vals = cosine_similarity(tfidf[-1], tfidf)\n",
    "    idx=vals.argsort()[0][-2]\n",
    "    flat = vals.flatten()\n",
    "    flat.sort()\n",
    "    req_tfidf = flat[-2]\n",
    "    if(req_tfidf==0):\n",
    "        robo_response=robo_response+\"I am sorry! I don't understand you\"\n",
    "        return robo_response\n",
    "    else:\n",
    "        robo_response = robo_response+sent_tokens[idx]\n",
    "        return robo_response"
   ]
  },
  {
   "cell_type": "code",
   "execution_count": 42,
   "id": "c0f86069",
   "metadata": {},
   "outputs": [
    {
     "name": "stdout",
     "output_type": "stream",
     "text": [
      "Hello, I am the Third Coral Reef Chatbot! I will answer your queries related to coral reef fish. If you want to exit, type Bye!\n",
      "How many species of fish live in coral reefs?\n",
      " coral reef fish are fish which live amongst or in close relation to coral reefs.\n",
      "What is the most venomous fish?\n",
      " there is a distinction between poisonous fish and venomous fish.\n",
      "What sharks live in coral reefs?\n",
      " coral reef fish are fish which live amongst or in close relation to coral reefs.\n",
      "What fish are poisonous?\n",
      " there is a distinction between poisonous fish and venomous fish.\n",
      "What fish can electrocute you?\n",
      " as with all fish, coral reef fish harbour parasites.\n",
      "What species can sting you?\n",
      " in return, the anemones provide the clownfish protection from their predators, who are not immune to anemone stings.\n",
      "What species are venomous?\n",
      " the most venomous known fish is the reef stonefish.\n",
      "What species are parasitic?\n",
      " parasites of coral reef fish include nematodes, platyhelminthes (cestodes, digeneans, and monogeneans), leeches, parasitic crustaceans such as isopods and copepods, and various microorganisms such as myxosporidia and microsporidia.\n",
      "What species are known for attacking scuba divers?\n",
      " lionfish can aggressively dart at scuba divers and attempt to puncture the facemask with their venomous spines.\n",
      "What are common herbivorous fish?\n",
      " sea anemones are common on reefs.\n",
      "Why do fish camouflage themselves?\n",
      " sometimes they camouflage the fish when the fish rests in places with the right background.\n",
      "How do fish get rid of their parasites?\n",
      " as with all fish, coral reef fish harbour parasites.\n",
      "What species have mutualistic relationships?\n",
      " there is a mutualistic relationship between sea anemones and clownfish.\n",
      "What species have commensalistic relationships?\n",
      " the relationship can be mutualistic, when both species benefit from the relationship, commensalistic, when one species benefits and the other is unaffected, and parasitistic, when one species benefits, and the other is harmed.\n",
      "Where in the world are coral reefs found?\n",
      " coral reefs contain the most diverse fish assemblages to be found anywhere on earth, with perhaps as many as 6,000â€“8,000 species dwelling within coral reef ecosystems of the world's oceans.\n",
      "What species engage in schooling?\n",
      " they have evolved to find protection by schooling, sometimes with other species like shoaling rabbitfish.\n",
      "What species are ambush predators?\n",
      " the well camouflaged striated frogfish, a species of anglerfish, is an ambush predator.\n",
      "Why are some coral reef fish colorful?\n",
      " coral reef fish are fish which live amongst or in close relation to coral reefs.\n",
      "What species is blue?\n",
      " the psychedelic synchiropus splendidus is one of only two animal species known to have blue colouring because of cellular pigment.\n",
      "What is the slowest species that lives in coral reefs?\n",
      " some of these fish parasites have heteroxenous life cycles (i.e.\n",
      "exit\n",
      " after dusk, a group of sharks may target the same prey item, covering every exit route from a particular coral head.\n",
      "bye\n",
      "Bye! take care..\n"
     ]
    }
   ],
   "source": [
    "flag=True\n",
    "print(\"Hello, I am the Third Coral Reef Chatbot! I will answer your queries related to coral reef fish. If you want to exit, type Bye!\")\n",
    "while(flag==True):\n",
    "    user_response = input()\n",
    "    user_response=user_response.lower()\n",
    "    if(user_response!='bye'):\n",
    "        if(user_response=='thanks' or user_response=='thank you' ):\n",
    "            flag=False\n",
    "            print(\"You are welcome.\")\n",
    "        else:\n",
    "            if(greeting(user_response)!=None):\n",
    "                print(greeting(user_response))\n",
    "            else:\n",
    "                print(\"\",end=\"\")\n",
    "                print(response(user_response))\n",
    "                sent_tokens.remove(user_response)\n",
    "    else:\n",
    "        flag=False\n",
    "        print(\"Bye! take care..\")"
   ]
  },
  {
   "cell_type": "code",
   "execution_count": 32,
   "id": "cb7b3f91",
   "metadata": {},
   "outputs": [],
   "source": [
    "\n",
    "for i in range(20):\n",
    "    chatbot_models.append(3)\n",
    "\n",
    "model_3_performance_list = [\"Incorrect\",\n",
    "                          \"Incorrect\", \n",
    "                          \"Incorrect\",\n",
    "                          \"Incorrect\",\n",
    "                          \"Incorrect\",\n",
    "                          \"Correct\",\n",
    "                          \"Correct\",\n",
    "                          \"Correct\",\n",
    "                          \"Correct\",\n",
    "                          \"Incorrect\",\n",
    "                          \"Partially Correct\",\n",
    "                          \"Incorrect\",\n",
    "                          \"Correct\",\n",
    "                          \"Incorrect\",\n",
    "                          \"Partially Correct\",\n",
    "                          \"Correct\",\n",
    "                          \"Correct\",\n",
    "                          \"Incorrect\",\n",
    "                           \"Correct\",\n",
    "                           \"Incorrect\"]\n"
   ]
  },
  {
   "cell_type": "markdown",
   "id": "7800bd6e",
   "metadata": {},
   "source": [
    "## 4) Chatbot 4 - Distillbert Chatbot"
   ]
  },
  {
   "cell_type": "markdown",
   "id": "cc568ad3",
   "metadata": {},
   "source": [
    "Source: https://huggingface.co/distilbert-base-cased-distilled-squad"
   ]
  },
  {
   "cell_type": "code",
   "execution_count": 4,
   "id": "a29dcead",
   "metadata": {},
   "outputs": [],
   "source": [
    "#read in data\n",
    "CORPUS_PATH = 'C:/Users/steve/OneDrive/Desktop/Github/Natural_Language_Processing/Chatbot Assignment/coral_reef_fish.txt'\n",
    "f=open(CORPUS_PATH,'r',errors = 'ignore')\n",
    "raw=f.read()\n",
    "raw=raw.lower()# converts to lowercase"
   ]
  },
  {
   "cell_type": "code",
   "execution_count": 8,
   "id": "7eda8054",
   "metadata": {},
   "outputs": [
    {
     "data": {
      "application/vnd.jupyter.widget-view+json": {
       "model_id": "c335709050cc41408cf0b259dfb30250",
       "version_major": 2,
       "version_minor": 0
      },
      "text/plain": [
       "Downloading (…)lve/main/config.json:   0%|          | 0.00/473 [00:00<?, ?B/s]"
      ]
     },
     "metadata": {},
     "output_type": "display_data"
    },
    {
     "name": "stderr",
     "output_type": "stream",
     "text": [
      "C:\\Users\\steve\\anaconda3\\lib\\site-packages\\huggingface_hub\\file_download.py:133: UserWarning: `huggingface_hub` cache-system uses symlinks by default to efficiently store duplicated files but your machine does not support them in C:\\Users\\steve\\.cache\\huggingface\\hub. Caching files will still work but in a degraded version that might require more space on your disk. This warning can be disabled by setting the `HF_HUB_DISABLE_SYMLINKS_WARNING` environment variable. For more details, see https://huggingface.co/docs/huggingface_hub/how-to-cache#limitations.\n",
      "To support symlinks on Windows, you either need to activate Developer Mode or to run Python as an administrator. In order to see activate developer mode, see this article: https://docs.microsoft.com/en-us/windows/apps/get-started/enable-your-device-for-development\n",
      "  warnings.warn(message)\n"
     ]
    },
    {
     "data": {
      "application/vnd.jupyter.widget-view+json": {
       "model_id": "3481820acaf44108aece05bf0c72f90a",
       "version_major": 2,
       "version_minor": 0
      },
      "text/plain": [
       "Downloading model.safetensors:   0%|          | 0.00/261M [00:00<?, ?B/s]"
      ]
     },
     "metadata": {},
     "output_type": "display_data"
    },
    {
     "data": {
      "application/vnd.jupyter.widget-view+json": {
       "model_id": "02121f45eb2c4dfdaecf5c2628b412ce",
       "version_major": 2,
       "version_minor": 0
      },
      "text/plain": [
       "Downloading (…)okenizer_config.json:   0%|          | 0.00/29.0 [00:00<?, ?B/s]"
      ]
     },
     "metadata": {},
     "output_type": "display_data"
    },
    {
     "data": {
      "application/vnd.jupyter.widget-view+json": {
       "model_id": "891b970f38ec41c690252989b8b3bad2",
       "version_major": 2,
       "version_minor": 0
      },
      "text/plain": [
       "Downloading (…)solve/main/vocab.txt:   0%|          | 0.00/213k [00:00<?, ?B/s]"
      ]
     },
     "metadata": {},
     "output_type": "display_data"
    },
    {
     "data": {
      "application/vnd.jupyter.widget-view+json": {
       "model_id": "6968b58d491146be997f831b71cd2160",
       "version_major": 2,
       "version_minor": 0
      },
      "text/plain": [
       "Downloading (…)/main/tokenizer.json:   0%|          | 0.00/436k [00:00<?, ?B/s]"
      ]
     },
     "metadata": {},
     "output_type": "display_data"
    },
    {
     "name": "stdout",
     "output_type": "stream",
     "text": [
      "Answer: 'the great hammerhead uses its hammer', score: 0.0377, start: 34598, end: 34634\n"
     ]
    }
   ],
   "source": [
    "from transformers import pipeline\n",
    "question_answerer = pipeline(\"question-answering\", model='distilbert-base-cased-distilled-squad')\n",
    "\n",
    "#context = r\"\"\"\n",
    "#Extractive Question Answering is the task of extracting an answer from a text given a question. An example     of a\n",
    "#question answering dataset is the SQuAD dataset, which is entirely based on that task. If you would like to fine-tune\n",
    "#a model on a SQuAD task, you may leverage the examples/pytorch/question-answering/run_squad.py script.\n",
    "#\"\"\"\n",
    "\n",
    "result = question_answerer(question=\"What is a good example of a question answering dataset?\",     context=raw)\n",
    "print(f\"Answer: '{result['answer']}', score: {round(result['score'], 4)}, start: {result['start']}, end: {result['end']}\")\n",
    "\n",
    "#Answer: 'SQuAD dataset', score: 0.5152, start: 147, end: 160"
   ]
  },
  {
   "cell_type": "code",
   "execution_count": 9,
   "id": "8e3327c7",
   "metadata": {},
   "outputs": [
    {
     "name": "stdout",
     "output_type": "stream",
     "text": [
      "Answer: 'four', score: 0.6391, start: 17258, end: 17262\n"
     ]
    }
   ],
   "source": [
    "result = question_answerer(question=\"How many species of fish live in coral reefs?\",     context=raw)\n",
    "print(f\"Answer: '{result['answer']}', score: {round(result['score'], 4)}, start: {result['start']}, end: {result['end']}\")"
   ]
  },
  {
   "cell_type": "code",
   "execution_count": 10,
   "id": "e35d0cb0",
   "metadata": {},
   "outputs": [
    {
     "name": "stdout",
     "output_type": "stream",
     "text": [
      "Answer: 'reef stonefish', score: 0.8257, start: 24899, end: 24913\n"
     ]
    }
   ],
   "source": [
    "result = question_answerer(question=\"What is the most venomous fish?\", context=raw)\n",
    "print(f\"Answer: '{result['answer']}', score: {round(result['score'], 4)}, start: {result['start']}, end: {result['end']}\")"
   ]
  },
  {
   "cell_type": "code",
   "execution_count": 11,
   "id": "c2880b5d",
   "metadata": {},
   "outputs": [
    {
     "name": "stdout",
     "output_type": "stream",
     "text": [
      "Answer: 'whitetip reef shark', score: 0.8656, start: 34283, end: 34302\n"
     ]
    }
   ],
   "source": [
    "result = question_answerer(question=\"What sharks live in coral reefs?\",     context=raw)\n",
    "print(f\"Answer: '{result['answer']}', score: {round(result['score'], 4)}, start: {result['start']}, end: {result['end']}\")"
   ]
  },
  {
   "cell_type": "code",
   "execution_count": 12,
   "id": "4afaa7fb",
   "metadata": {},
   "outputs": [
    {
     "name": "stdout",
     "output_type": "stream",
     "text": [
      "Answer: 'coral reef fish', score: 0.8148, start: 0, end: 15\n"
     ]
    }
   ],
   "source": [
    "result = question_answerer(question=\"What fish are poisonous?\",     context=raw)\n",
    "print(f\"Answer: '{result['answer']}', score: {round(result['score'], 4)}, start: {result['start']}, end: {result['end']}\")"
   ]
  },
  {
   "cell_type": "code",
   "execution_count": 13,
   "id": "98875a3f",
   "metadata": {},
   "outputs": [
    {
     "name": "stdout",
     "output_type": "stream",
     "text": [
      "Answer: 'snapper', score: 0.3421, start: 11139, end: 11146\n"
     ]
    }
   ],
   "source": [
    "result = question_answerer(question=\"What fish can electrocute you?\",     context=raw)\n",
    "print(f\"Answer: '{result['answer']}', score: {round(result['score'], 4)}, start: {result['start']}, end: {result['end']}\")"
   ]
  },
  {
   "cell_type": "code",
   "execution_count": 14,
   "id": "ac4e7d0c",
   "metadata": {},
   "outputs": [
    {
     "name": "stdout",
     "output_type": "stream",
     "text": [
      "Answer: 'yellow stingrays', score: 0.6958, start: 34108, end: 34124\n"
     ]
    }
   ],
   "source": [
    "result = question_answerer(question=\"What species can sting you?\",     context=raw)\n",
    "print(f\"Answer: '{result['answer']}', score: {round(result['score'], 4)}, start: {result['start']}, end: {result['end']}\")"
   ]
  },
  {
   "cell_type": "code",
   "execution_count": 15,
   "id": "b72c19a6",
   "metadata": {},
   "outputs": [
    {
     "name": "stdout",
     "output_type": "stream",
     "text": [
      "Answer: 'coral reef fish', score: 0.5431, start: 0, end: 15\n"
     ]
    }
   ],
   "source": [
    "result = question_answerer(question=\"What species are parasitic?\", context=raw)\n",
    "print(f\"Answer: '{result['answer']}', score: {round(result['score'], 4)}, start: {result['start']}, end: {result['end']}\")"
   ]
  },
  {
   "cell_type": "code",
   "execution_count": 16,
   "id": "c2871306",
   "metadata": {},
   "outputs": [
    {
     "name": "stdout",
     "output_type": "stream",
     "text": [
      "Answer: 'spinefoot rabbitfish', score: 0.9286, start: 18449, end: 18469\n"
     ]
    }
   ],
   "source": [
    "result = question_answerer(question=\"What species are venomous?\", context=raw)\n",
    "print(f\"Answer: '{result['answer']}', score: {round(result['score'], 4)}, start: {result['start']}, end: {result['end']}\")"
   ]
  },
  {
   "cell_type": "code",
   "execution_count": 17,
   "id": "3c960a2b",
   "metadata": {},
   "outputs": [
    {
     "name": "stdout",
     "output_type": "stream",
     "text": [
      "Answer: 'lionfish', score: 0.9109, start: 26369, end: 26377\n"
     ]
    }
   ],
   "source": [
    "result = question_answerer(question=\"What species are known for attacking scuba divers?\", context=raw)\n",
    "print(f\"Answer: '{result['answer']}', score: {round(result['score'], 4)}, start: {result['start']}, end: {result['end']}\")"
   ]
  },
  {
   "cell_type": "code",
   "execution_count": 18,
   "id": "dc2f6ab8",
   "metadata": {},
   "outputs": [
    {
     "name": "stdout",
     "output_type": "stream",
     "text": [
      "Answer: 'yellow tang', score: 0.5247, start: 2116, end: 2127\n"
     ]
    }
   ],
   "source": [
    "result = question_answerer(question=\"What are common herbivorous fish?\", context=raw)\n",
    "print(f\"Answer: '{result['answer']}', score: {round(result['score'], 4)}, start: {result['start']}, end: {result['end']}\")"
   ]
  },
  {
   "cell_type": "code",
   "execution_count": 19,
   "id": "f5ff85f6",
   "metadata": {},
   "outputs": [
    {
     "name": "stdout",
     "output_type": "stream",
     "text": [
      "Answer: 'when the fish rests in places with the right background', score: 0.7476, start: 6715, end: 6770\n"
     ]
    }
   ],
   "source": [
    "result = question_answerer(question=\"Why do fish camouflage themselves?\", context=raw)\n",
    "print(f\"Answer: '{result['answer']}', score: {round(result['score'], 4)}, start: {result['start']}, end: {result['end']}\")"
   ]
  },
  {
   "cell_type": "code",
   "execution_count": 20,
   "id": "45f168ba",
   "metadata": {},
   "outputs": [
    {
     "name": "stdout",
     "output_type": "stream",
     "text": [
      "Answer: 'by biting, stinging, or stabbing', score: 0.4523, start: 23987, end: 24019\n"
     ]
    }
   ],
   "source": [
    "result = question_answerer(question=\"How do fish get rid of their parasites?\", context=raw)\n",
    "print(f\"Answer: '{result['answer']}', score: {round(result['score'], 4)}, start: {result['start']}, end: {result['end']}\")"
   ]
  },
  {
   "cell_type": "code",
   "execution_count": 21,
   "id": "eff1ff77",
   "metadata": {},
   "outputs": [
    {
     "name": "stdout",
     "output_type": "stream",
     "text": [
      "Answer: 'sea anemones and clownfish', score: 0.8657, start: 21835, end: 21861\n"
     ]
    }
   ],
   "source": [
    "result = question_answerer(question=\"What species have mutualistic relationships?\", context=raw)\n",
    "print(f\"Answer: '{result['answer']}', score: {round(result['score'], 4)}, start: {result['start']}, end: {result['end']}\")"
   ]
  },
  {
   "cell_type": "code",
   "execution_count": 22,
   "id": "58c70334",
   "metadata": {},
   "outputs": [
    {
     "name": "stdout",
     "output_type": "stream",
     "text": [
      "Answer: 'sea anemones and clownfish', score: 0.6863, start: 21835, end: 21861\n"
     ]
    }
   ],
   "source": [
    "result = question_answerer(question=\"What species have commensalistic relationships?\", context=raw)\n",
    "print(f\"Answer: '{result['answer']}', score: {round(result['score'], 4)}, start: {result['start']}, end: {result['end']}\")"
   ]
  },
  {
   "cell_type": "code",
   "execution_count": 23,
   "id": "7a3dc2e4",
   "metadata": {},
   "outputs": [
    {
     "name": "stdout",
     "output_type": "stream",
     "text": [
      "Answer: 'top predators', score: 0.8029, start: 26812, end: 26825\n"
     ]
    }
   ],
   "source": [
    "result = question_answerer(question=\"Where in the world are coral reefs found?\", context=raw)\n",
    "print(f\"Answer: '{result['answer']}', score: {round(result['score'], 4)}, start: {result['start']}, end: {result['end']}\")"
   ]
  },
  {
   "cell_type": "code",
   "execution_count": 24,
   "id": "86ff4565",
   "metadata": {},
   "outputs": [
    {
     "name": "stdout",
     "output_type": "stream",
     "text": [
      "Answer: 'spinefoot rabbitfish', score: 0.6337, start: 19619, end: 19639\n"
     ]
    }
   ],
   "source": [
    "result = question_answerer(question=\"What species engage in schooling?\", context=raw)\n",
    "print(f\"Answer: '{result['answer']}', score: {round(result['score'], 4)}, start: {result['start']}, end: {result['end']}\")"
   ]
  },
  {
   "cell_type": "code",
   "execution_count": 25,
   "id": "6d09f9ff",
   "metadata": {},
   "outputs": [
    {
     "name": "stdout",
     "output_type": "stream",
     "text": [
      "Answer: 'frogfish', score: 0.5638, start: 9688, end: 9696\n"
     ]
    }
   ],
   "source": [
    "result = question_answerer(question=\"Which species are ambush predators?\", context=raw)\n",
    "print(f\"Answer: '{result['answer']}', score: {round(result['score'], 4)}, start: {result['start']}, end: {result['end']}\")"
   ]
  },
  {
   "cell_type": "code",
   "execution_count": 26,
   "id": "1ac6c6d7",
   "metadata": {},
   "outputs": [
    {
     "name": "stdout",
     "output_type": "stream",
     "text": [
      "Answer: 'high biodiversity', score: 0.7926, start: 22542, end: 22559\n"
     ]
    }
   ],
   "source": [
    "result = question_answerer(question=\"Why are some coral reef fish colorful?\", context=raw)\n",
    "print(f\"Answer: '{result['answer']}', score: {round(result['score'], 4)}, start: {result['start']}, end: {result['end']}\")"
   ]
  },
  {
   "cell_type": "code",
   "execution_count": 27,
   "id": "1de4423e",
   "metadata": {},
   "outputs": [
    {
     "name": "stdout",
     "output_type": "stream",
     "text": [
      "Answer: 'bluestripe snapper', score: 0.6375, start: 12029, end: 12047\n"
     ]
    }
   ],
   "source": [
    "result = question_answerer(question=\"Which species is blue?\", context=raw)\n",
    "print(f\"Answer: '{result['answer']}', score: {round(result['score'], 4)}, start: {result['start']}, end: {result['end']}\")"
   ]
  },
  {
   "cell_type": "code",
   "execution_count": 28,
   "id": "b4fbead8",
   "metadata": {},
   "outputs": [
    {
     "name": "stdout",
     "output_type": "stream",
     "text": [
      "Answer: 'dwarf seahorse', score: 0.4608, start: 4939, end: 4953\n"
     ]
    }
   ],
   "source": [
    "result = question_answerer(question=\"What is the slowest species that lives in coral reefs?\", context=raw)\n",
    "print(f\"Answer: '{result['answer']}', score: {round(result['score'], 4)}, start: {result['start']}, end: {result['end']}\")"
   ]
  },
  {
   "cell_type": "code",
   "execution_count": 33,
   "id": "39d86cc3",
   "metadata": {},
   "outputs": [],
   "source": [
    "\n",
    "for i in range(20):\n",
    "    chatbot_models.append(4)\n",
    "\n",
    "model_4_performance_list = [\"Incorrect\",\n",
    "                          \"Correct\",\n",
    "                           \"Correct\",\n",
    "                           \"Incorrect\",\n",
    "                           \"Incorrect\",\n",
    "                           \"Correct\",\n",
    "                           \"Incorrect\",\n",
    "                           \"Correct\",\n",
    "                           \"Correct\",\n",
    "                           \"Correct\",\n",
    "                           \"Incorrect\",\n",
    "                           \"Incorrect\",\n",
    "                           \"Correct\",\n",
    "                           \"Incorrect\",\n",
    "                           \"Incorrect\",\n",
    "                           \"Correct\",\n",
    "                           \"Correct\",\n",
    "                           \"Incorrect\",\n",
    "                           \"Partially Correct\",\n",
    "                           \"Correct\"]"
   ]
  },
  {
   "cell_type": "markdown",
   "id": "b7154785",
   "metadata": {},
   "source": [
    "## 5) Chatbot 5 - Roberta Chatbot"
   ]
  },
  {
   "cell_type": "markdown",
   "id": "90a16d72",
   "metadata": {},
   "source": [
    "https://huggingface.co/deepset/roberta-base-squad2"
   ]
  },
  {
   "cell_type": "code",
   "execution_count": 46,
   "id": "2edda303",
   "metadata": {},
   "outputs": [],
   "source": [
    "from transformers import AutoModelForQuestionAnswering, AutoTokenizer, pipeline, RobertaTokenizer, RobertaModel, TFRobertaModel\n",
    "from transformers import optimization\n",
    "\n",
    "batch_size = 96\n",
    "n_epochs = 2\n",
    "base_LM_model = \"roberta-base\"\n",
    "max_seq_len = 386\n",
    "learning_rate = 3e-5\n",
    "#lr_schedule = optimization.LinearWarmup\n",
    "warmup_proportion = 0.2\n",
    "doc_stride=128\n",
    "max_query_length=64"
   ]
  },
  {
   "cell_type": "code",
   "execution_count": 50,
   "id": "50844ddb",
   "metadata": {},
   "outputs": [
    {
     "name": "stdout",
     "output_type": "stream",
     "text": [
      "Collecting farm-haystack[inference]\n",
      "  Obtaining dependency information for farm-haystack[inference] from https://files.pythonhosted.org/packages/df/ef/485cd648ee02afafd5c014b609c214299507112c246b75303f91fd2c139f/farm_haystack-1.19.0-py3-none-any.whl.metadata\n",
      "  Downloading farm_haystack-1.19.0-py3-none-any.whl.metadata (25 kB)\n",
      "Collecting boilerpy3 (from farm-haystack[inference])\n",
      "  Downloading boilerpy3-1.0.6-py3-none-any.whl (22 kB)\n",
      "Collecting canals==0.3.2 (from farm-haystack[inference])\n",
      "  Obtaining dependency information for canals==0.3.2 from https://files.pythonhosted.org/packages/b8/f6/6d2071a20400129a72390f021b46603f694d29553df0725152864c3c40f3/canals-0.3.2-py3-none-any.whl.metadata\n",
      "  Downloading canals-0.3.2-py3-none-any.whl.metadata (4.4 kB)\n",
      "Collecting events (from farm-haystack[inference])\n",
      "  Obtaining dependency information for events from https://files.pythonhosted.org/packages/25/ed/e47dec0626edd468c84c04d97769e7ab4ea6457b7f54dcb3f72b17fcd876/Events-0.5-py3-none-any.whl.metadata\n",
      "  Downloading Events-0.5-py3-none-any.whl.metadata (3.9 kB)\n",
      "Requirement already satisfied: jsonschema in c:\\users\\steve\\anaconda3\\lib\\site-packages (from farm-haystack[inference]) (4.4.0)\n",
      "Collecting lazy-imports==0.3.1 (from farm-haystack[inference])\n",
      "  Downloading lazy_imports-0.3.1-py3-none-any.whl (12 kB)\n",
      "Collecting more-itertools (from farm-haystack[inference])\n",
      "  Obtaining dependency information for more-itertools from https://files.pythonhosted.org/packages/5a/cb/6dce742ea14e47d6f565589e859ad225f2a5de576d7696e0623b784e226b/more_itertools-10.1.0-py3-none-any.whl.metadata\n",
      "  Downloading more_itertools-10.1.0-py3-none-any.whl.metadata (33 kB)\n",
      "Requirement already satisfied: networkx in c:\\users\\steve\\anaconda3\\lib\\site-packages (from farm-haystack[inference]) (2.7.1)\n",
      "Requirement already satisfied: pandas in c:\\users\\steve\\anaconda3\\lib\\site-packages (from farm-haystack[inference]) (1.4.2)\n",
      "Requirement already satisfied: pillow in c:\\users\\steve\\anaconda3\\lib\\site-packages (from farm-haystack[inference]) (9.0.1)\n",
      "Collecting platformdirs (from farm-haystack[inference])\n",
      "  Obtaining dependency information for platformdirs from https://files.pythonhosted.org/packages/14/51/fe5a0d6ea589f0d4a1b97824fb518962ad48b27cd346dcdfa2405187997a/platformdirs-3.10.0-py3-none-any.whl.metadata\n",
      "  Downloading platformdirs-3.10.0-py3-none-any.whl.metadata (11 kB)\n",
      "Collecting posthog (from farm-haystack[inference])\n",
      "  Obtaining dependency information for posthog from https://files.pythonhosted.org/packages/a7/73/35758818228c70348be4c3c66a76653c62e894e0e3c3461453c5341ca926/posthog-3.0.2-py2.py3-none-any.whl.metadata\n",
      "  Downloading posthog-3.0.2-py2.py3-none-any.whl.metadata (2.0 kB)\n",
      "Collecting prompthub-py==4.0.0 (from farm-haystack[inference])\n",
      "  Obtaining dependency information for prompthub-py==4.0.0 from https://files.pythonhosted.org/packages/27/5f/8c4939e290ff93af79364b88ffe3902d29c234f94e8227cf0b7fce3c887f/prompthub_py-4.0.0-py3-none-any.whl.metadata\n",
      "  Downloading prompthub_py-4.0.0-py3-none-any.whl.metadata (2.2 kB)\n",
      "Requirement already satisfied: pydantic<2 in c:\\users\\steve\\anaconda3\\lib\\site-packages (from farm-haystack[inference]) (1.10.12)\n",
      "Collecting quantulum3 (from farm-haystack[inference])\n",
      "  Downloading quantulum3-0.9.0-py3-none-any.whl (10.7 MB)\n",
      "     --------------------------------------- 10.7/10.7 MB 11.1 MB/s eta 0:00:00\n",
      "Collecting rank-bm25 (from farm-haystack[inference])\n",
      "  Downloading rank_bm25-0.2.2-py3-none-any.whl (8.6 kB)\n",
      "Requirement already satisfied: requests in c:\\users\\steve\\anaconda3\\lib\\site-packages (from farm-haystack[inference]) (2.27.1)\n",
      "Collecting requests-cache<1.0.0 (from farm-haystack[inference])\n",
      "  Downloading requests_cache-0.9.8-py3-none-any.whl (48 kB)\n"
     ]
    },
    {
     "name": "stderr",
     "output_type": "stream",
     "text": [
      "WARNING: Ignoring invalid distribution -rotobuf (c:\\users\\steve\\anaconda3\\lib\\site-packages)\n",
      "WARNING: Ignoring invalid distribution -rotobuf (c:\\users\\steve\\anaconda3\\lib\\site-packages)\n",
      "ERROR: pip's dependency resolver does not currently take into account all the packages that are installed. This behaviour is the source of the following dependency conflicts.\n",
      "conda-repo-cli 1.0.4 requires pathlib, which is not installed.\n",
      "spyder 5.1.5 requires pyqt5<5.13, which is not installed.\n",
      "spyder 5.1.5 requires pyqtwebengine<5.13, which is not installed.\n",
      "google-api-core 1.25.1 requires google-auth<2.0dev,>=1.21.1, but you have google-auth 2.18.1 which is incompatible.\n",
      "google-cloud-core 1.7.1 requires google-auth<2.0dev,>=1.24.0, but you have google-auth 2.18.1 which is incompatible.\n",
      "google-cloud-storage 1.31.0 requires google-auth<2.0dev,>=1.11.0, but you have google-auth 2.18.1 which is incompatible.\n",
      "tensorboard 2.12.3 requires tensorboard-data-server<0.8.0,>=0.7.0, but you have tensorboard-data-server 0.6.1 which is incompatible.\n",
      "tensorflow-intel 2.12.0 requires protobuf!=4.21.0,!=4.21.1,!=4.21.2,!=4.21.3,!=4.21.4,!=4.21.5,<5.0.0dev,>=3.20.3, but you have protobuf 4.21.0 which is incompatible.\n"
     ]
    },
    {
     "name": "stdout",
     "output_type": "stream",
     "text": [
      "     ---------------------------------------- 48.7/48.7 kB ? eta 0:00:00\n",
      "Collecting scikit-learn>=1.3.0 (from farm-haystack[inference])\n",
      "  Obtaining dependency information for scikit-learn>=1.3.0 from https://files.pythonhosted.org/packages/2d/30/3afb8bcb785653254eb646ff2680ec4d637b40b06f4b046aca17b5e086b0/scikit_learn-1.3.0-cp39-cp39-win_amd64.whl.metadata\n",
      "  Downloading scikit_learn-1.3.0-cp39-cp39-win_amd64.whl.metadata (11 kB)\n",
      "Collecting sseclient-py (from farm-haystack[inference])\n",
      "  Downloading sseclient_py-1.7.2-py2.py3-none-any.whl (8.4 kB)\n",
      "Requirement already satisfied: tenacity in c:\\users\\steve\\anaconda3\\lib\\site-packages (from farm-haystack[inference]) (8.0.1)\n",
      "Collecting tiktoken>=0.3.2 (from farm-haystack[inference])\n",
      "  Downloading tiktoken-0.4.0-cp39-cp39-win_amd64.whl (635 kB)\n",
      "     -------------------------------------- 635.6/635.6 kB 8.0 MB/s eta 0:00:00\n",
      "Requirement already satisfied: tqdm in c:\\users\\steve\\anaconda3\\lib\\site-packages (from farm-haystack[inference]) (4.64.0)\n",
      "Requirement already satisfied: transformers==4.31.0 in c:\\users\\steve\\anaconda3\\lib\\site-packages (from farm-haystack[inference]) (4.31.0)\n",
      "Requirement already satisfied: huggingface-hub>=0.5.0 in c:\\users\\steve\\anaconda3\\lib\\site-packages (from farm-haystack[inference]) (0.16.4)\n",
      "Requirement already satisfied: sentence-transformers>=2.2.0 in c:\\users\\steve\\anaconda3\\lib\\site-packages (from farm-haystack[inference]) (2.2.2)\n",
      "Requirement already satisfied: pyyaml<7.0,>=6.0 in c:\\users\\steve\\anaconda3\\lib\\site-packages (from prompthub-py==4.0.0->farm-haystack[inference]) (6.0)\n",
      "Collecting requests (from farm-haystack[inference])\n",
      "  Obtaining dependency information for requests from https://files.pythonhosted.org/packages/70/8e/0e2d847013cb52cd35b38c009bb167a1a26b2ce6cd6965bf26b47bc0bf44/requests-2.31.0-py3-none-any.whl.metadata\n",
      "  Downloading requests-2.31.0-py3-none-any.whl.metadata (4.6 kB)\n",
      "Requirement already satisfied: filelock in c:\\users\\steve\\anaconda3\\lib\\site-packages (from transformers==4.31.0->farm-haystack[inference]) (3.6.0)\n",
      "Requirement already satisfied: numpy>=1.17 in c:\\users\\steve\\anaconda3\\lib\\site-packages (from transformers==4.31.0->farm-haystack[inference]) (1.22.4)\n",
      "Requirement already satisfied: packaging>=20.0 in c:\\users\\steve\\anaconda3\\lib\\site-packages (from transformers==4.31.0->farm-haystack[inference]) (21.3)\n",
      "Requirement already satisfied: regex!=2019.12.17 in c:\\users\\steve\\anaconda3\\lib\\site-packages (from transformers==4.31.0->farm-haystack[inference]) (2022.3.15)\n",
      "Requirement already satisfied: tokenizers!=0.11.3,<0.14,>=0.11.1 in c:\\users\\steve\\anaconda3\\lib\\site-packages (from transformers==4.31.0->farm-haystack[inference]) (0.13.3)\n",
      "Requirement already satisfied: safetensors>=0.3.1 in c:\\users\\steve\\anaconda3\\lib\\site-packages (from transformers==4.31.0->farm-haystack[inference]) (0.3.2)\n",
      "Requirement already satisfied: sentencepiece!=0.1.92,>=0.1.91 in c:\\users\\steve\\anaconda3\\lib\\site-packages (from transformers==4.31.0->farm-haystack[inference]) (0.1.99)\n",
      "Requirement already satisfied: protobuf in c:\\users\\steve\\anaconda3\\lib\\site-packages (from transformers==4.31.0->farm-haystack[inference]) (4.21.0)\n",
      "Requirement already satisfied: torch!=1.12.0,>=1.9 in c:\\users\\steve\\anaconda3\\lib\\site-packages (from transformers==4.31.0->farm-haystack[inference]) (2.0.1)\n",
      "Collecting accelerate>=0.20.3 (from transformers==4.31.0->farm-haystack[inference])\n",
      "  Obtaining dependency information for accelerate>=0.20.3 from https://files.pythonhosted.org/packages/4d/a7/05c67003d659a0035f2b3a8cf389c1d9645865aee84a73ce99ddab16682f/accelerate-0.22.0-py3-none-any.whl.metadata\n",
      "  Downloading accelerate-0.22.0-py3-none-any.whl.metadata (17 kB)\n",
      "Requirement already satisfied: fsspec in c:\\users\\steve\\anaconda3\\lib\\site-packages (from huggingface-hub>=0.5.0->farm-haystack[inference]) (2022.2.0)\n",
      "Requirement already satisfied: typing-extensions>=3.7.4.3 in c:\\users\\steve\\anaconda3\\lib\\site-packages (from huggingface-hub>=0.5.0->farm-haystack[inference]) (4.7.1)\n",
      "Requirement already satisfied: charset-normalizer<4,>=2 in c:\\users\\steve\\anaconda3\\lib\\site-packages (from requests->farm-haystack[inference]) (2.0.4)\n",
      "Requirement already satisfied: idna<4,>=2.5 in c:\\users\\steve\\anaconda3\\lib\\site-packages (from requests->farm-haystack[inference]) (3.3)\n",
      "Requirement already satisfied: urllib3<3,>=1.21.1 in c:\\users\\steve\\anaconda3\\lib\\site-packages (from requests->farm-haystack[inference]) (1.26.9)\n",
      "Requirement already satisfied: certifi>=2017.4.17 in c:\\users\\steve\\anaconda3\\lib\\site-packages (from requests->farm-haystack[inference]) (2021.10.8)\n",
      "Requirement already satisfied: appdirs>=1.4.4 in c:\\users\\steve\\anaconda3\\lib\\site-packages (from requests-cache<1.0.0->farm-haystack[inference]) (1.4.4)\n",
      "Requirement already satisfied: attrs>=21.2 in c:\\users\\steve\\anaconda3\\lib\\site-packages (from requests-cache<1.0.0->farm-haystack[inference]) (21.4.0)\n",
      "Collecting cattrs>=22.2 (from requests-cache<1.0.0->farm-haystack[inference])\n",
      "  Obtaining dependency information for cattrs>=22.2 from https://files.pythonhosted.org/packages/3a/ba/05df14efaa0624fac6b1510e87f5ce446208d2f6ce50270a89b6268aebfe/cattrs-23.1.2-py3-none-any.whl.metadata\n",
      "  Downloading cattrs-23.1.2-py3-none-any.whl.metadata (9.3 kB)\n",
      "Collecting url-normalize>=1.4 (from requests-cache<1.0.0->farm-haystack[inference])\n",
      "  Downloading url_normalize-1.4.3-py2.py3-none-any.whl (6.8 kB)\n",
      "Requirement already satisfied: scipy>=1.5.0 in c:\\users\\steve\\anaconda3\\lib\\site-packages (from scikit-learn>=1.3.0->farm-haystack[inference]) (1.7.3)\n",
      "Collecting joblib>=1.1.1 (from scikit-learn>=1.3.0->farm-haystack[inference])\n",
      "  Obtaining dependency information for joblib>=1.1.1 from https://files.pythonhosted.org/packages/10/40/d551139c85db202f1f384ba8bcf96aca2f329440a844f924c8a0040b6d02/joblib-1.3.2-py3-none-any.whl.metadata\n",
      "  Downloading joblib-1.3.2-py3-none-any.whl.metadata (5.4 kB)\n",
      "Requirement already satisfied: threadpoolctl>=2.0.0 in c:\\users\\steve\\anaconda3\\lib\\site-packages (from scikit-learn>=1.3.0->farm-haystack[inference]) (2.2.0)\n",
      "Requirement already satisfied: torchvision in c:\\users\\steve\\anaconda3\\lib\\site-packages (from sentence-transformers>=2.2.0->farm-haystack[inference]) (0.15.2)\n",
      "Requirement already satisfied: nltk in c:\\users\\steve\\anaconda3\\lib\\site-packages (from sentence-transformers>=2.2.0->farm-haystack[inference]) (3.7)\n",
      "Requirement already satisfied: colorama in c:\\users\\steve\\anaconda3\\lib\\site-packages (from tqdm->farm-haystack[inference]) (0.4.6)\n",
      "Requirement already satisfied: pyrsistent!=0.17.0,!=0.17.1,!=0.17.2,>=0.14.0 in c:\\users\\steve\\anaconda3\\lib\\site-packages (from jsonschema->farm-haystack[inference]) (0.18.0)\n",
      "Requirement already satisfied: python-dateutil>=2.8.1 in c:\\users\\steve\\anaconda3\\lib\\site-packages (from pandas->farm-haystack[inference]) (2.8.2)\n",
      "Requirement already satisfied: pytz>=2020.1 in c:\\users\\steve\\anaconda3\\lib\\site-packages (from pandas->farm-haystack[inference]) (2021.3)\n",
      "Requirement already satisfied: six>=1.5 in c:\\users\\steve\\anaconda3\\lib\\site-packages (from posthog->farm-haystack[inference]) (1.16.0)\n",
      "Collecting monotonic>=1.5 (from posthog->farm-haystack[inference])\n",
      "  Downloading monotonic-1.6-py2.py3-none-any.whl (8.2 kB)\n",
      "Collecting backoff>=1.10.0 (from posthog->farm-haystack[inference])\n",
      "  Downloading backoff-2.2.1-py3-none-any.whl (15 kB)\n",
      "Collecting inflect (from quantulum3->farm-haystack[inference])\n",
      "  Obtaining dependency information for inflect from https://files.pythonhosted.org/packages/fb/c6/d9feb758be584f729424390af24687d3a4363d968164f94079f83cd536b4/inflect-7.0.0-py3-none-any.whl.metadata\n",
      "  Downloading inflect-7.0.0-py3-none-any.whl.metadata (21 kB)\n",
      "Collecting num2words (from quantulum3->farm-haystack[inference])\n",
      "  Downloading num2words-0.5.12-py3-none-any.whl (125 kB)\n",
      "     ---------------------------------------- 125.2/125.2 kB ? eta 0:00:00\n",
      "Requirement already satisfied: psutil in c:\\users\\steve\\anaconda3\\lib\\site-packages (from accelerate>=0.20.3->transformers==4.31.0->farm-haystack[inference]) (5.8.0)\n",
      "Collecting exceptiongroup (from cattrs>=22.2->requests-cache<1.0.0->farm-haystack[inference])\n",
      "  Obtaining dependency information for exceptiongroup from https://files.pythonhosted.org/packages/ad/83/b71e58666f156a39fb29417e4c8ca4bc7400c0dd4ed9e8842ab54dc8c344/exceptiongroup-1.1.3-py3-none-any.whl.metadata\n",
      "  Downloading exceptiongroup-1.1.3-py3-none-any.whl.metadata (6.1 kB)\n",
      "Requirement already satisfied: pyparsing!=3.0.5,>=2.0.2 in c:\\users\\steve\\anaconda3\\lib\\site-packages (from packaging>=20.0->transformers==4.31.0->farm-haystack[inference]) (3.0.4)\n",
      "Requirement already satisfied: sympy in c:\\users\\steve\\anaconda3\\lib\\site-packages (from torch!=1.12.0,>=1.9->transformers==4.31.0->farm-haystack[inference]) (1.10.1)\n",
      "Requirement already satisfied: jinja2 in c:\\users\\steve\\anaconda3\\lib\\site-packages (from torch!=1.12.0,>=1.9->transformers==4.31.0->farm-haystack[inference]) (2.11.3)\n",
      "Requirement already satisfied: click in c:\\users\\steve\\anaconda3\\lib\\site-packages (from nltk->sentence-transformers>=2.2.0->farm-haystack[inference]) (8.0.4)\n",
      "Collecting docopt>=0.6.2 (from num2words->quantulum3->farm-haystack[inference])\n",
      "  Downloading docopt-0.6.2.tar.gz (25 kB)\n",
      "  Preparing metadata (setup.py): started\n",
      "  Preparing metadata (setup.py): finished with status 'done'\n",
      "Requirement already satisfied: MarkupSafe>=0.23 in c:\\users\\steve\\anaconda3\\lib\\site-packages (from jinja2->torch!=1.12.0,>=1.9->transformers==4.31.0->farm-haystack[inference]) (2.0.1)\n",
      "Requirement already satisfied: mpmath>=0.19 in c:\\users\\steve\\anaconda3\\lib\\site-packages (from sympy->torch!=1.12.0,>=1.9->transformers==4.31.0->farm-haystack[inference]) (1.2.1)\n",
      "Downloading canals-0.3.2-py3-none-any.whl (34 kB)\n",
      "Downloading prompthub_py-4.0.0-py3-none-any.whl (6.9 kB)\n",
      "Downloading requests-2.31.0-py3-none-any.whl (62 kB)\n",
      "   ---------------------------------------- 62.6/62.6 kB 3.3 MB/s eta 0:00:00\n",
      "Downloading scikit_learn-1.3.0-cp39-cp39-win_amd64.whl (9.3 MB)\n",
      "   ---------------------------------------- 9.3/9.3 MB 35.0 MB/s eta 0:00:00\n",
      "Downloading Events-0.5-py3-none-any.whl (6.8 kB)\n",
      "Downloading farm_haystack-1.19.0-py3-none-any.whl (764 kB)\n",
      "   --------------------------------------- 764.0/764.0 kB 24.3 MB/s eta 0:00:00\n",
      "Downloading more_itertools-10.1.0-py3-none-any.whl (55 kB)\n",
      "   ---------------------------------------- 55.8/55.8 kB ? eta 0:00:00\n",
      "Downloading platformdirs-3.10.0-py3-none-any.whl (17 kB)\n",
      "Downloading posthog-3.0.2-py2.py3-none-any.whl (37 kB)\n",
      "Downloading accelerate-0.22.0-py3-none-any.whl (251 kB)\n",
      "   --------------------------------------- 251.2/251.2 kB 15.1 MB/s eta 0:00:00\n",
      "Downloading cattrs-23.1.2-py3-none-any.whl (50 kB)\n",
      "   ---------------------------------------- 50.8/50.8 kB 2.5 MB/s eta 0:00:00\n",
      "Downloading joblib-1.3.2-py3-none-any.whl (302 kB)\n",
      "   ---------------------------------------- 302.2/302.2 kB ? eta 0:00:00\n",
      "Downloading inflect-7.0.0-py3-none-any.whl (34 kB)\n",
      "Downloading exceptiongroup-1.1.3-py3-none-any.whl (14 kB)\n",
      "Building wheels for collected packages: docopt\n",
      "  Building wheel for docopt (setup.py): started\n",
      "  Building wheel for docopt (setup.py): finished with status 'done'\n",
      "  Created wheel for docopt: filename=docopt-0.6.2-py2.py3-none-any.whl size=13772 sha256=e7591dff937a2a44bcd8e82296981b7447835be4674b3f66afcadeea0b727fb9\n",
      "  Stored in directory: c:\\users\\steve\\appdata\\local\\pip\\cache\\wheels\\70\\4a\\46\\1309fc853b8d395e60bafaf1b6df7845bdd82c95fd59dd8d2b\n",
      "Successfully built docopt\n",
      "Installing collected packages: sseclient-py, monotonic, events, docopt, url-normalize, requests, rank-bm25, platformdirs, num2words, more-itertools, lazy-imports, joblib, exceptiongroup, canals, boilerpy3, backoff, tiktoken, scikit-learn, prompthub-py, posthog, inflect, cattrs, requests-cache, quantulum3, accelerate, farm-haystack\n",
      "  Attempting uninstall: requests\n",
      "    Found existing installation: requests 2.27.1\n",
      "    Uninstalling requests-2.27.1:\n",
      "      Successfully uninstalled requests-2.27.1\n",
      "  Attempting uninstall: joblib\n",
      "    Found existing installation: joblib 1.1.0\n",
      "    Uninstalling joblib-1.1.0:\n",
      "      Successfully uninstalled joblib-1.1.0\n",
      "  Attempting uninstall: scikit-learn\n",
      "    Found existing installation: scikit-learn 1.0.2\n",
      "    Uninstalling scikit-learn-1.0.2:\n",
      "      Successfully uninstalled scikit-learn-1.0.2\n",
      "Successfully installed accelerate-0.22.0 backoff-2.2.1 boilerpy3-1.0.6 canals-0.3.2 cattrs-23.1.2 docopt-0.6.2 events-0.5 exceptiongroup-1.1.3 farm-haystack-1.19.0 inflect-7.0.0 joblib-1.3.2 lazy-imports-0.3.1 monotonic-1.6 more-itertools-10.1.0 num2words-0.5.12 platformdirs-3.10.0 posthog-3.0.2 prompthub-py-4.0.0 quantulum3-0.9.0 rank-bm25-0.2.2 requests-2.31.0 requests-cache-0.9.8 scikit-learn-1.3.0 sseclient-py-1.7.2 tiktoken-0.4.0 url-normalize-1.4.3\n"
     ]
    }
   ],
   "source": [
    "#!pip install farm-haystack[inference]"
   ]
  },
  {
   "cell_type": "code",
   "execution_count": 61,
   "id": "6e97ea5b",
   "metadata": {},
   "outputs": [
    {
     "data": {
      "text/plain": [
       "{'score': 0.28468453884124756,\n",
       " 'start': 3244,\n",
       " 'end': 3257,\n",
       " 'answer': '6,000â€“8,000'}"
      ]
     },
     "execution_count": 61,
     "metadata": {},
     "output_type": "execute_result"
    }
   ],
   "source": [
    "#from haystack.reader.farm import FARMReader\n",
    "\n",
    "#reader = TransformersReader(model_name_or_path=\"deepset/roberta-base-squad2\",tokenizer=\"deepset/roberta-base-squad2\")\n",
    "\n",
    "model_name = \"deepset/roberta-base-squad2\"\n",
    "\n",
    "# a) Get predictions\n",
    "nlp = pipeline('question-answering', model=model_name, tokenizer=model_name)\n",
    "QA_input = {\n",
    "    'question': 'How many species of fish live in coral reefs?',\n",
    "    'context': raw\n",
    "}\n",
    "res = nlp(QA_input)\n",
    "\n",
    "# b) Load model & tokenizer\n",
    "model = AutoModelForQuestionAnswering.from_pretrained(model_name)\n",
    "tokenizer = AutoTokenizer.from_pretrained(model_name)\n",
    "\n",
    "res"
   ]
  },
  {
   "cell_type": "code",
   "execution_count": 62,
   "id": "c25da7cc",
   "metadata": {},
   "outputs": [
    {
     "data": {
      "text/plain": [
       "{'score': 0.612525463104248,\n",
       " 'start': 24899,\n",
       " 'end': 24913,\n",
       " 'answer': 'reef stonefish'}"
      ]
     },
     "execution_count": 62,
     "metadata": {},
     "output_type": "execute_result"
    }
   ],
   "source": [
    "# a) Get predictions\n",
    "QA_input = {\n",
    "    'question': 'What is the most venomous fish?',\n",
    "    'context': raw\n",
    "}\n",
    "res = nlp(QA_input)\n",
    "\n",
    "res"
   ]
  },
  {
   "cell_type": "code",
   "execution_count": 64,
   "id": "9d764b56",
   "metadata": {},
   "outputs": [
    {
     "data": {
      "text/plain": [
       "{'score': 0.1773730218410492,\n",
       " 'start': 28108,\n",
       " 'end': 28128,\n",
       " 'answer': 'caribbean reef shark'}"
      ]
     },
     "execution_count": 64,
     "metadata": {},
     "output_type": "execute_result"
    }
   ],
   "source": [
    "# a) Get predictions\n",
    "QA_input = {\n",
    "    'question': 'What sharks live in coral reefs?',\n",
    "    'context': raw\n",
    "}\n",
    "res = nlp(QA_input)\n",
    "\n",
    "res"
   ]
  },
  {
   "cell_type": "code",
   "execution_count": 65,
   "id": "b7a27464",
   "metadata": {},
   "outputs": [
    {
     "data": {
      "text/plain": [
       "{'score': 0.5669053196907043,\n",
       " 'start': 23682,\n",
       " 'end': 23696,\n",
       " 'answer': 'many reef fish'}"
      ]
     },
     "execution_count": 65,
     "metadata": {},
     "output_type": "execute_result"
    }
   ],
   "source": [
    "# a) Get predictions\n",
    "QA_input = {\n",
    "    'question': 'What fish are poisonous?',\n",
    "    'context': raw\n",
    "}\n",
    "res = nlp(QA_input)\n",
    "\n",
    "res"
   ]
  },
  {
   "cell_type": "code",
   "execution_count": 66,
   "id": "21e35cc9",
   "metadata": {},
   "outputs": [
    {
     "data": {
      "text/plain": [
       "{'score': 0.010173969902098179,\n",
       " 'start': 9045,\n",
       " 'end': 9062,\n",
       " 'answer': 'clown triggerfish'}"
      ]
     },
     "execution_count": 66,
     "metadata": {},
     "output_type": "execute_result"
    }
   ],
   "source": [
    "# a) Get predictions\n",
    "QA_input = {\n",
    "    'question': 'What fish can electrocute you?',\n",
    "    'context': raw\n",
    "}\n",
    "res = nlp(QA_input)\n",
    "\n",
    "res"
   ]
  },
  {
   "cell_type": "code",
   "execution_count": 67,
   "id": "43836d61",
   "metadata": {},
   "outputs": [
    {
     "data": {
      "text/plain": [
       "{'score': 0.5866654515266418,\n",
       " 'start': 27273,\n",
       " 'end': 27286,\n",
       " 'answer': 'the stargazer'}"
      ]
     },
     "execution_count": 67,
     "metadata": {},
     "output_type": "execute_result"
    }
   ],
   "source": [
    "# a) Get predictions\n",
    "QA_input = {\n",
    "    'question': 'What species can sting you?',\n",
    "    'context': raw\n",
    "}\n",
    "res = nlp(QA_input)\n",
    "\n",
    "res"
   ]
  },
  {
   "cell_type": "code",
   "execution_count": 68,
   "id": "23259d1b",
   "metadata": {},
   "outputs": [
    {
     "data": {
      "text/plain": [
       "{'score': 0.06776570528745651,\n",
       " 'start': 17341,\n",
       " 'end': 17353,\n",
       " 'answer': 'damselfishes'}"
      ]
     },
     "execution_count": 68,
     "metadata": {},
     "output_type": "execute_result"
    }
   ],
   "source": [
    "# a) Get predictions\n",
    "QA_input = {\n",
    "    'question': 'What species are parasitic?',\n",
    "    'context': raw\n",
    "}\n",
    "res = nlp(QA_input)\n",
    "\n",
    "res"
   ]
  },
  {
   "cell_type": "code",
   "execution_count": 69,
   "id": "bcb657d8",
   "metadata": {},
   "outputs": [
    {
     "data": {
      "text/plain": [
       "{'score': 0.3828498125076294,\n",
       " 'start': 27273,\n",
       " 'end': 27286,\n",
       " 'answer': 'the stargazer'}"
      ]
     },
     "execution_count": 69,
     "metadata": {},
     "output_type": "execute_result"
    }
   ],
   "source": [
    "# a) Get predictions\n",
    "QA_input = {\n",
    "    'question': 'What species are venomous?',\n",
    "    'context': raw\n",
    "}\n",
    "res = nlp(QA_input)\n",
    "\n",
    "res"
   ]
  },
  {
   "cell_type": "code",
   "execution_count": 70,
   "id": "c4fe3029",
   "metadata": {},
   "outputs": [
    {
     "data": {
      "text/plain": [
       "{'score': 0.005669948644936085,\n",
       " 'start': 26369,\n",
       " 'end': 26377,\n",
       " 'answer': 'lionfish'}"
      ]
     },
     "execution_count": 70,
     "metadata": {},
     "output_type": "execute_result"
    }
   ],
   "source": [
    "# a) Get predictions\n",
    "QA_input = {\n",
    "    'question': 'What species are known for attacking scuba divers?',\n",
    "    'context': raw\n",
    "}\n",
    "res = nlp(QA_input)\n",
    "\n",
    "res"
   ]
  },
  {
   "cell_type": "code",
   "execution_count": 71,
   "id": "d1bba596",
   "metadata": {},
   "outputs": [
    {
     "data": {
      "text/plain": [
       "{'score': 0.33974504470825195,\n",
       " 'start': 2116,\n",
       " 'end': 2127,\n",
       " 'answer': 'yellow tang'}"
      ]
     },
     "execution_count": 71,
     "metadata": {},
     "output_type": "execute_result"
    }
   ],
   "source": [
    "# a) Get predictions\n",
    "QA_input = {\n",
    "    'question': 'What are common herbivorous fish?',\n",
    "    'context': raw\n",
    "}\n",
    "res = nlp(QA_input)\n",
    "\n",
    "res"
   ]
  },
  {
   "cell_type": "code",
   "execution_count": 72,
   "id": "bf693fa0",
   "metadata": {},
   "outputs": [
    {
     "data": {
      "text/plain": [
       "{'score': 0.33112961053848267,\n",
       " 'start': 8282,\n",
       " 'end': 8309,\n",
       " 'answer': 'lets them ambush their prey'}"
      ]
     },
     "execution_count": 72,
     "metadata": {},
     "output_type": "execute_result"
    }
   ],
   "source": [
    "# a) Get predictions\n",
    "QA_input = {\n",
    "    'question': 'Why do fish camouflage themselves?',\n",
    "    'context': raw\n",
    "}\n",
    "res = nlp(QA_input)\n",
    "\n",
    "res"
   ]
  },
  {
   "cell_type": "code",
   "execution_count": 73,
   "id": "a647fafb",
   "metadata": {},
   "outputs": [
    {
     "data": {
      "text/plain": [
       "{'score': 0.2778742015361786,\n",
       " 'start': 16126,\n",
       " 'end': 16153,\n",
       " 'answer': 'establish cleaning stations'}"
      ]
     },
     "execution_count": 73,
     "metadata": {},
     "output_type": "execute_result"
    }
   ],
   "source": [
    "# a) Get predictions\n",
    "QA_input = {\n",
    "    'question': 'How do fish get rid of their parasites?',\n",
    "    'context': raw\n",
    "}\n",
    "res = nlp(QA_input)\n",
    "\n",
    "res"
   ]
  },
  {
   "cell_type": "code",
   "execution_count": 74,
   "id": "5095fe15",
   "metadata": {},
   "outputs": [
    {
     "data": {
      "text/plain": [
       "{'score': 0.19288134574890137,\n",
       " 'start': 21835,\n",
       " 'end': 21861,\n",
       " 'answer': 'sea anemones and clownfish'}"
      ]
     },
     "execution_count": 74,
     "metadata": {},
     "output_type": "execute_result"
    }
   ],
   "source": [
    "# a) Get predictions\n",
    "QA_input = {\n",
    "    'question': 'What species have mutualistic relationships?',\n",
    "    'context': raw\n",
    "}\n",
    "res = nlp(QA_input)\n",
    "\n",
    "res"
   ]
  },
  {
   "cell_type": "code",
   "execution_count": 75,
   "id": "024b595b",
   "metadata": {},
   "outputs": [
    {
     "data": {
      "text/plain": [
       "{'score': 0.1290857344865799,\n",
       " 'start': 0,\n",
       " 'end': 15,\n",
       " 'answer': 'coral reef fish'}"
      ]
     },
     "execution_count": 75,
     "metadata": {},
     "output_type": "execute_result"
    }
   ],
   "source": [
    "# a) Get predictions\n",
    "QA_input = {\n",
    "    'question': 'What species have commensalistic relationships?',\n",
    "    'context': raw\n",
    "}\n",
    "res = nlp(QA_input)\n",
    "\n",
    "res"
   ]
  },
  {
   "cell_type": "code",
   "execution_count": 76,
   "id": "0297e93a",
   "metadata": {},
   "outputs": [
    {
     "data": {
      "text/plain": [
       "{'score': 0.11980749666690826,\n",
       " 'start': 28031,\n",
       " 'end': 28043,\n",
       " 'answer': 'indo-pacific'}"
      ]
     },
     "execution_count": 76,
     "metadata": {},
     "output_type": "execute_result"
    }
   ],
   "source": [
    "# a) Get predictions\n",
    "QA_input = {\n",
    "    'question': 'Where in the world are coral reefs found?',\n",
    "    'context': raw\n",
    "}\n",
    "res = nlp(QA_input)\n",
    "\n",
    "res"
   ]
  },
  {
   "cell_type": "code",
   "execution_count": 77,
   "id": "4a0579fa",
   "metadata": {},
   "outputs": [
    {
     "data": {
      "text/plain": [
       "{'score': 0.235614612698555,\n",
       " 'start': 27273,\n",
       " 'end': 27286,\n",
       " 'answer': 'the stargazer'}"
      ]
     },
     "execution_count": 77,
     "metadata": {},
     "output_type": "execute_result"
    }
   ],
   "source": [
    "# a) Get predictions\n",
    "QA_input = {\n",
    "    'question': 'What species engage in schooling?',\n",
    "    'context': raw\n",
    "}\n",
    "res = nlp(QA_input)\n",
    "\n",
    "res"
   ]
  },
  {
   "cell_type": "code",
   "execution_count": 78,
   "id": "81e2f057",
   "metadata": {},
   "outputs": [
    {
     "data": {
      "text/plain": [
       "{'score': 0.5129007697105408,\n",
       " 'start': 24899,\n",
       " 'end': 24913,\n",
       " 'answer': 'reef stonefish'}"
      ]
     },
     "execution_count": 78,
     "metadata": {},
     "output_type": "execute_result"
    }
   ],
   "source": [
    "# a) Get predictions\n",
    "QA_input = {\n",
    "    'question': 'What species are ambush predators?',\n",
    "    'context': raw\n",
    "}\n",
    "res = nlp(QA_input)\n",
    "\n",
    "res"
   ]
  },
  {
   "cell_type": "code",
   "execution_count": 79,
   "id": "eb489c62",
   "metadata": {},
   "outputs": [
    {
     "data": {
      "text/plain": [
       "{'score': 0.09240982681512833,\n",
       " 'start': 81,\n",
       " 'end': 145,\n",
       " 'answer': 'coral reefs form complex ecosystems with tremendous biodiversity'}"
      ]
     },
     "execution_count": 79,
     "metadata": {},
     "output_type": "execute_result"
    }
   ],
   "source": [
    "# a) Get predictions\n",
    "QA_input = {\n",
    "    'question': 'Why are some coral reef fish colorful?',\n",
    "    'context': raw\n",
    "}\n",
    "res = nlp(QA_input)\n",
    "\n",
    "res"
   ]
  },
  {
   "cell_type": "code",
   "execution_count": 80,
   "id": "1c717362",
   "metadata": {},
   "outputs": [
    {
     "data": {
      "text/plain": [
       "{'score': 0.4031549096107483,\n",
       " 'start': 12029,\n",
       " 'end': 12047,\n",
       " 'answer': 'bluestripe snapper'}"
      ]
     },
     "execution_count": 80,
     "metadata": {},
     "output_type": "execute_result"
    }
   ],
   "source": [
    "# a) Get predictions\n",
    "QA_input = {\n",
    "    'question': 'Which species is blue?',\n",
    "    'context': raw\n",
    "}\n",
    "res = nlp(QA_input)\n",
    "\n",
    "res"
   ]
  },
  {
   "cell_type": "code",
   "execution_count": 81,
   "id": "9754a798",
   "metadata": {},
   "outputs": [
    {
     "data": {
      "text/plain": [
       "{'score': 0.6155030727386475,\n",
       " 'start': 4939,\n",
       " 'end': 4953,\n",
       " 'answer': 'dwarf seahorse'}"
      ]
     },
     "execution_count": 81,
     "metadata": {},
     "output_type": "execute_result"
    }
   ],
   "source": [
    "# a) Get predictions\n",
    "QA_input = {\n",
    "    'question': 'What is the slowest species that lives in coral reefs?',\n",
    "    'context': raw\n",
    "}\n",
    "res = nlp(QA_input)\n",
    "\n",
    "res"
   ]
  },
  {
   "cell_type": "code",
   "execution_count": 34,
   "id": "35537bc8",
   "metadata": {},
   "outputs": [],
   "source": [
    "\n",
    "for i in range(20):\n",
    "    chatbot_models.append(5)\n",
    "\n",
    "model_5_performance_list = [\"Correct\",\n",
    "                           \"Correct\",\n",
    "                           \"Correct\",\n",
    "                           \"Partially Correct\",\n",
    "                           \"Incorrect\",\n",
    "                           \"Partially Correct\",\n",
    "                           \"Partially Correct\",\n",
    "                           \"Correct\",\n",
    "                           \"Correct\",\n",
    "                           \"Correct\",\n",
    "                           \"Correct\",\n",
    "                           \"Correct\",\n",
    "                           \"Correct\",\n",
    "                           \"Incorrect\",\n",
    "                           \"Correct\",\n",
    "                           \"Incorrect\",\n",
    "                           \"Correct\",\n",
    "                           \"Incorrect\",\n",
    "                           \"Partially Correct\",\n",
    "                           \"Correct\"]"
   ]
  },
  {
   "cell_type": "markdown",
   "id": "81376376",
   "metadata": {},
   "source": [
    "## 6) Evaluation of Chatbot Performance Results"
   ]
  },
  {
   "cell_type": "code",
   "execution_count": 35,
   "id": "1ef6a379",
   "metadata": {},
   "outputs": [],
   "source": [
    "\n",
    "import pandas as pd\n",
    "\n",
    "\n",
    "chatbot_performance_df = pd.DataFrame({'Correct': [100 * model_1_performance_list.count(\"Correct\")/len(model_1_performance_list),\n",
    "                               100 * model_2_performance_list.count(\"Correct\")/len(model_2_performance_list),\n",
    "                               100 * model_3_performance_list.count(\"Correct\")/len(model_3_performance_list),\n",
    "                               100 * model_4_performance_list.count(\"Correct\")/len(model_4_performance_list),\n",
    "                               100 * model_5_performance_list.count(\"Correct\")/len(model_5_performance_list)],\n",
    "                    'Partially Correct': [100 * model_1_performance_list.count(\"Partially Correct\")/len(model_1_performance_list),\n",
    "                               100 * model_2_performance_list.count(\"Partially Correct\")/len(model_2_performance_list),\n",
    "                               100 * model_3_performance_list.count(\"Partially Correct\")/len(model_3_performance_list),\n",
    "                               100 * model_4_performance_list.count(\"Partially Correct\")/len(model_4_performance_list),\n",
    "                               100 * model_5_performance_list.count(\"Partially Correct\")/len(model_5_performance_list)],\n",
    "                   'Incorrect': [100 * model_1_performance_list.count(\"Incorrect\")/len(model_1_performance_list),\n",
    "                               100 * model_2_performance_list.count(\"Incorrect\")/len(model_2_performance_list),\n",
    "                               100 * model_3_performance_list.count(\"Incorrect\")/len(model_3_performance_list),\n",
    "                               100 * model_4_performance_list.count(\"Incorrect\")/len(model_4_performance_list),\n",
    "                               100 * model_5_performance_list.count(\"Incorrect\")/len(model_5_performance_list)]},\n",
    "                  index=['1', '2', '3', '4', '5'])\n",
    "\n"
   ]
  },
  {
   "cell_type": "code",
   "execution_count": 36,
   "id": "cdb0a268",
   "metadata": {},
   "outputs": [
    {
     "data": {
      "text/html": [
       "<div>\n",
       "<style scoped>\n",
       "    .dataframe tbody tr th:only-of-type {\n",
       "        vertical-align: middle;\n",
       "    }\n",
       "\n",
       "    .dataframe tbody tr th {\n",
       "        vertical-align: top;\n",
       "    }\n",
       "\n",
       "    .dataframe thead th {\n",
       "        text-align: right;\n",
       "    }\n",
       "</style>\n",
       "<table border=\"1\" class=\"dataframe\">\n",
       "  <thead>\n",
       "    <tr style=\"text-align: right;\">\n",
       "      <th></th>\n",
       "      <th>Correct</th>\n",
       "      <th>Partially Correct</th>\n",
       "      <th>Incorrect</th>\n",
       "    </tr>\n",
       "  </thead>\n",
       "  <tbody>\n",
       "    <tr>\n",
       "      <th>1</th>\n",
       "      <td>35.0</td>\n",
       "      <td>5.0</td>\n",
       "      <td>60.0</td>\n",
       "    </tr>\n",
       "    <tr>\n",
       "      <th>2</th>\n",
       "      <td>15.0</td>\n",
       "      <td>20.0</td>\n",
       "      <td>65.0</td>\n",
       "    </tr>\n",
       "    <tr>\n",
       "      <th>3</th>\n",
       "      <td>40.0</td>\n",
       "      <td>10.0</td>\n",
       "      <td>50.0</td>\n",
       "    </tr>\n",
       "    <tr>\n",
       "      <th>4</th>\n",
       "      <td>50.0</td>\n",
       "      <td>5.0</td>\n",
       "      <td>45.0</td>\n",
       "    </tr>\n",
       "    <tr>\n",
       "      <th>5</th>\n",
       "      <td>60.0</td>\n",
       "      <td>20.0</td>\n",
       "      <td>20.0</td>\n",
       "    </tr>\n",
       "  </tbody>\n",
       "</table>\n",
       "</div>"
      ],
      "text/plain": [
       "   Correct  Partially Correct  Incorrect\n",
       "1     35.0                5.0       60.0\n",
       "2     15.0               20.0       65.0\n",
       "3     40.0               10.0       50.0\n",
       "4     50.0                5.0       45.0\n",
       "5     60.0               20.0       20.0"
      ]
     },
     "execution_count": 36,
     "metadata": {},
     "output_type": "execute_result"
    }
   ],
   "source": [
    "chatbot_performance_df"
   ]
  },
  {
   "cell_type": "code",
   "execution_count": 40,
   "id": "c800bc17",
   "metadata": {},
   "outputs": [
    {
     "data": {
      "image/png": "[encoded data removed]",
      "text/plain": [
       "<Figure size 864x864 with 1 Axes>"
      ]
     },
     "metadata": {},
     "output_type": "display_data"
    }
   ],
   "source": [
    "import matplotlib.pyplot as plt\n",
    "import seaborn as sns\n",
    "from matplotlib import rcParams\n",
    "\n",
    "plt.style.use('seaborn')\n",
    "\n",
    "ax = chatbot_performance_df.plot(kind = 'bar', stacked = True, figsize = (12, 12), fontsize = 13, color = [\"forestgreen\", \"goldenrod\", 'firebrick'])\n",
    "\n",
    "ax.set_xticklabels(labels = [\"Sentence-Based Transformer\", \n",
    "                             \"Fine-Tuned GPT2\",\n",
    "                             \"TF-IDF Cosine Similarity\",\n",
    "                             \"DistilBERT\",\n",
    "                             \"Roberta\"], rotation = 45)\n",
    "ax.set_xlabel(\"Chatbot Model\", fontsize=18)\n",
    "ax.set_ylabel(\"Percent of Responses That Are Correct, Partially Correct, and Incorrect\", fontsize=17)\n",
    "ax.set_title('Stacked Barplot Summarizing Performance Of Coral Reef Fish Chatbots', fontsize = 20)\n",
    "\n",
    "plt.legend(bbox_to_anchor=(1.02, 0.55), loc='upper left', borderaxespad=0, fontsize = 13)\n",
    "\n",
    "plt.show();\n"
   ]
  }
 ],
 "metadata": {
  "kernelspec": {
   "display_name": "Python 3 (ipykernel)",
   "language": "python",
   "name": "python3"
  },
  "language_info": {
   "codemirror_mode": {
    "name": "ipython",
    "version": 3
   },
   "file_extension": ".py",
   "mimetype": "text/x-python",
   "name": "python",
   "nbconvert_exporter": "python",
   "pygments_lexer": "ipython3",
   "version": "3.9.12"
  }
 },
 "nbformat": 4,
 "nbformat_minor": 5
}
